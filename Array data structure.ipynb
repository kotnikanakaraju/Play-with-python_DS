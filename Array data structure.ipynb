{
 "cells": [
  {
   "cell_type": "markdown",
   "id": "03030386",
   "metadata": {},
   "source": [
    "#subarrray"
   ]
  },
  {
   "cell_type": "code",
   "execution_count": 1,
   "id": "c25bd285",
   "metadata": {},
   "outputs": [
    {
     "name": "stdout",
     "output_type": "stream",
     "text": [
      "the array : array('i', [1, 2, 3, 4, 5])\n",
      "the reversed array: array('i', [5, 4, 3, 2, 1])\n"
     ]
    }
   ],
   "source": [
    "import array as arr\n",
    "\n",
    "a=arr.array(\"i\",[1,2,3,4,5])\n",
    "print(\"the array :\",a)\n",
    "l=len(a)\n",
    "for i in range(l//2):\n",
    "    a[i],a[l-i-1]=a[l-i-1],a[i]\n",
    "    \n",
    "print(\"the reversed array:\",a)"
   ]
  },
  {
   "cell_type": "code",
   "execution_count": 4,
   "id": "1064c2f9",
   "metadata": {},
   "outputs": [
    {
     "name": "stdout",
     "output_type": "stream",
     "text": [
      "The array: array('i', [1, 2, 3, 4, 5])\n",
      "array('i', [5, 4, 3, 2, 1])\n"
     ]
    }
   ],
   "source": [
    "a=arr.array(\"i\",[1,2,3,4,5])\n",
    "print(\"The array:\",a)\n",
    "a.reverse()\n",
    "print(a)"
   ]
  },
  {
   "cell_type": "code",
   "execution_count": 5,
   "id": "0bcaf6fe",
   "metadata": {},
   "outputs": [
    {
     "data": {
      "text/plain": [
       "array('i', [5, 4, 3, 2, 1])"
      ]
     },
     "execution_count": 5,
     "metadata": {},
     "output_type": "execute_result"
    }
   ],
   "source": [
    "a=arr.array(\"i\",[1,2,3,4,5])\n",
    "def reversingArray(a):\n",
    "    return a[::-1]\n",
    "reversingArray(a)"
   ]
  },
  {
   "cell_type": "code",
   "execution_count": 11,
   "id": "ad1a39f6",
   "metadata": {},
   "outputs": [
    {
     "data": {
      "text/plain": [
       "array('i', [5, 4, 3, 2, 1])"
      ]
     },
     "execution_count": 11,
     "metadata": {},
     "output_type": "execute_result"
    }
   ],
   "source": [
    "import array\n",
    "a=array.array(\"i\",[1,2,3,4,5])\n",
    "def reverseArray(a):\n",
    "    if len(a)==1:\n",
    "        return a\n",
    "    return reverseArray(a[1:])+ a[0:1]\n",
    "reverseArray(a)"
   ]
  },
  {
   "cell_type": "markdown",
   "id": "fd5cb9c9",
   "metadata": {},
   "source": [
    "arrray Duplicates "
   ]
  },
  {
   "cell_type": "code",
   "execution_count": 4,
   "id": "7306f150",
   "metadata": {},
   "outputs": [
    {
     "name": "stdout",
     "output_type": "stream",
     "text": [
      "the list is:[11, 15, 13, 16, 13, 15, 16, 11]\n",
      "[16, 11, 13, 15]\n"
     ]
    }
   ],
   "source": [
    "sam_list = [11, 15, 13, 16, 13, 15, 16, 11] \n",
    "print(\"the list is:\"+str(sam_list))\n",
    "\n",
    "sam_list=list(set(sam_list))\n",
    "print(sam_list)"
   ]
  },
  {
   "cell_type": "code",
   "execution_count": 3,
   "id": "4e8f76e2",
   "metadata": {},
   "outputs": [
    {
     "name": "stdout",
     "output_type": "stream",
     "text": [
      "2\n"
     ]
    }
   ],
   "source": [
    "def removeDuplicates(arr,a):\n",
    "    if a==0 or a==1:\n",
    "        return a\n",
    "    p=1\n",
    "    for q in range(1,a):\n",
    "        if arr[q]!=arr[q-1]:\n",
    "            arr[p]=arr[q]\n",
    "            p+=1\n",
    "        return p\n",
    "\n",
    "arr = [2,3,4,4,5,6,6,6,7,8,8]\n",
    "a=len(arr)\n",
    "b=removeDuplicates(arr,a)\n",
    "print(b)"
   ]
  },
  {
   "cell_type": "markdown",
   "id": "a3218fc3",
   "metadata": {},
   "source": [
    "# find the triplets in a list with given sum"
   ]
  },
  {
   "cell_type": "code",
   "execution_count": 11,
   "id": "416001fe",
   "metadata": {},
   "outputs": [
    {
     "name": "stdout",
     "output_type": "stream",
     "text": [
      "[(1, 2, 6), (1, 3, 5), (2, 3, 4)]\n"
     ]
    }
   ],
   "source": [
    "def find_triplets(input_list,k):\n",
    "    input_list.sort()\n",
    "    result=[]\n",
    "    for i in range(len(input_list)-2):\n",
    "        left=i+1\n",
    "        right=len(input_list)-1\n",
    "        while left<right:\n",
    "            if input_list[i]+input_list[left]+input_list[right]==k:\n",
    "                result.append((input_list[i],input_list[left],input_list[right]))\n",
    "                left+=1\n",
    "                right-=1\n",
    "            elif input_list[i]+input_list[left]+input_list[right]<k:\n",
    "                left+=1\n",
    "            else:\n",
    "                right-=1\n",
    "    return result\n",
    "\n",
    "input_list = [1, 2, 3, 4, 5, 6, 7, 8, 9, 10]\n",
    "k = 9\n",
    "print(find_triplets(input_list, k))"
   ]
  },
  {
   "cell_type": "code",
   "execution_count": 12,
   "id": "999fd897",
   "metadata": {},
   "outputs": [
    {
     "name": "stdout",
     "output_type": "stream",
     "text": [
      "[(1, 2, 7), (1, 3, 6), (1, 4, 5), (2, 3, 5)]\n"
     ]
    }
   ],
   "source": [
    "from itertools import combinations\n",
    "\n",
    "def findTriplets(lst,key):\n",
    "    def valid(val):\n",
    "        return sum(val)==key\n",
    "    return list(filter(valid,list(combinations(lst,3))))\n",
    "lst = [1, 2, 3, 4, 5, 6, 7, 8, 9, 10]\n",
    "k=10\n",
    "print(findTriplets(lst, 10))"
   ]
  },
  {
   "cell_type": "code",
   "execution_count": 16,
   "id": "04e5dc2b",
   "metadata": {},
   "outputs": [
    {
     "name": "stdout",
     "output_type": "stream",
     "text": [
      "largesst cntagious array: 7\n"
     ]
    }
   ],
   "source": [
    "def fun(arr,l):\n",
    "    max_so_far=max(arr)\n",
    "    for i in range(l-1):\n",
    "        s=arr[i]\n",
    "        for j in range(i+1,l):\n",
    "            s+=arr[j]\n",
    "            if s>max_so_far:\n",
    "                max_so_far=s\n",
    "    return max_so_far\n",
    "arr = [-2, -3, 4, -1, -2, 1, 5, -3]\n",
    "print(\"largesst cntagious array:\",fun(arr,len(arr)))"
   ]
  },
  {
   "cell_type": "markdown",
   "id": "1d41a3db",
   "metadata": {},
   "source": [
    "# missing number in array"
   ]
  },
  {
   "cell_type": "code",
   "execution_count": 19,
   "id": "e3aa1228",
   "metadata": {},
   "outputs": [
    {
     "name": "stdout",
     "output_type": "stream",
     "text": [
      "[8]\n"
     ]
    }
   ],
   "source": [
    "arr=[1,2,3,4,5,6,7,9,10]\n",
    "missing_element=[]\n",
    "for ele in range(arr[0],arr[-1]+1):\n",
    "    if ele not in arr:\n",
    "        missing_element.append(ele)\n",
    "print(missing_element)"
   ]
  },
  {
   "cell_type": "code",
   "execution_count": 20,
   "id": "09baf13c",
   "metadata": {},
   "outputs": [
    {
     "name": "stdout",
     "output_type": "stream",
     "text": [
      "[8]\n"
     ]
    }
   ],
   "source": [
    "missing_element=[item for item in range(arr[0],arr[-1]+1) if item not in arr]\n",
    "print(missing_element)"
   ]
  },
  {
   "cell_type": "code",
   "execution_count": 21,
   "id": "54558639",
   "metadata": {},
   "outputs": [
    {
     "name": "stdout",
     "output_type": "stream",
     "text": [
      "{8}\n"
     ]
    }
   ],
   "source": [
    "missing_value = set(range(arr[0], arr[-1]+1)) - set(arr)\n",
    "print(missing_value)"
   ]
  },
  {
   "cell_type": "code",
   "execution_count": 22,
   "id": "734707e6",
   "metadata": {},
   "outputs": [
    {
     "data": {
      "text/plain": [
       "{8}"
      ]
     },
     "execution_count": 22,
     "metadata": {},
     "output_type": "execute_result"
    }
   ],
   "source": [
    "set(range(arr[0], arr[-1]+1)).difference(arr)"
   ]
  },
  {
   "cell_type": "markdown",
   "id": "052f2180",
   "metadata": {},
   "source": [
    "# merge sorted 2 arrays"
   ]
  },
  {
   "cell_type": "code",
   "execution_count": 2,
   "id": "2ce84e7d",
   "metadata": {},
   "outputs": [
    {
     "name": "stdout",
     "output_type": "stream",
     "text": [
      "After merging\n",
      "12345678"
     ]
    }
   ],
   "source": [
    "def mergeArrays(arr1,arr2,n1,n2,arr3):\n",
    "    i=0\n",
    "    j=0\n",
    "    k=0\n",
    "    #traversing the arr1 and insert im arr3\n",
    "    while(i<n1):\n",
    "        arr3[k]=arr1[i]\n",
    "        k+=1\n",
    "        i+=1\n",
    "    #now taverse arr2 and insert in arr3\n",
    "    while(j<n2):\n",
    "        arr3[k]=arr2[j]\n",
    "        k+=1\n",
    "        j+=1\n",
    "        \n",
    "    arr3.sort()\n",
    "    \n",
    "if __name__=='__main__':\n",
    "    arr1=[1,3,5,7]\n",
    "    n1=len(arr1)\n",
    "    arr2=[2,4,6,8]\n",
    "    n2=len(arr2)\n",
    "    arr3=[0 for i in range(n1+n2)]\n",
    "    mergeArrays(arr1,arr2,n1,n2,arr3)\n",
    "    \n",
    "    print(\"After merging\")\n",
    "    for i in range(n1+n2):\n",
    "        print(arr3[i],end=\"\")"
   ]
  },
  {
   "cell_type": "code",
   "execution_count": 5,
   "id": "336ae9d5",
   "metadata": {},
   "outputs": [
    {
     "name": "stdout",
     "output_type": "stream",
     "text": [
      "[1, 2, 4, 5]\n"
     ]
    }
   ],
   "source": [
    "my_list=[5,2,4,1]\n",
    "new_list=[]\n",
    "while my_list:\n",
    "    min = my_list[0]  \n",
    "    for x in my_list: \n",
    "        if x < min:\n",
    "            min = x\n",
    "    new_list.append(min)\n",
    "    my_list.remove(min)    \n",
    "\n",
    "print(new_list)"
   ]
  },
  {
   "cell_type": "code",
   "execution_count": 7,
   "id": "999c2450",
   "metadata": {},
   "outputs": [
    {
     "name": "stdout",
     "output_type": "stream",
     "text": [
      "after Rearranging: [-4, 3, -1, 2, -9, 6]\n"
     ]
    }
   ],
   "source": [
    "# rearrange the array alternatively\n",
    "def rearrange(arr):\n",
    "    p=0\n",
    "    b=0\n",
    "    for i in range(len(arr)):\n",
    "        if b==1:\n",
    "            b-=1\n",
    "        elif arr[i]<0:\n",
    "            arr[i],arr[p]=arr[p],arr[i]\n",
    "            if p>i:\n",
    "                b+=1\n",
    "            p+=2\n",
    "    return arr\n",
    "\n",
    "array=[2,3,-4,-1,6,-9]\n",
    "print(\"after Rearranging:\",rearrange(array))"
   ]
  },
  {
   "cell_type": "code",
   "execution_count": 9,
   "id": "56aad813",
   "metadata": {},
   "outputs": [
    {
     "name": "stdout",
     "output_type": "stream",
     "text": [
      "2\n"
     ]
    }
   ],
   "source": [
    "# count the glove pairs in array\n",
    "def countgloves(arr,n):\n",
    "    #To store the required count\n",
    "    count=0\n",
    "    \n",
    "    #sort the original array\n",
    "    arr.sort()\n",
    "    i=0\n",
    "    while i<(n-1):\n",
    "        # A valid pair is found\n",
    "        if(arr[i]==arr[i+1]):\n",
    "            count+=1\n",
    "            i+=2\n",
    "        else:\n",
    "            i+=1\n",
    "    return count\n",
    "\n",
    "if __name__==\"__main__\":\n",
    "    arr = [6, 5, 2, 3, 5, 2, 2, 1]\n",
    "    n = len(arr)\n",
    "    print(countgloves(arr,n))\n",
    "    \n",
    "        "
   ]
  },
  {
   "cell_type": "code",
   "execution_count": 12,
   "id": "ec372a81",
   "metadata": {},
   "outputs": [
    {
     "name": "stdout",
     "output_type": "stream",
     "text": [
      "5\n"
     ]
    }
   ],
   "source": [
    "# get the array inversion count\n",
    "def getIvercount(arr,n):\n",
    "    inversion_count=0\n",
    "    for i in range(n):\n",
    "        for j in range(i+1,n):\n",
    "            if(arr[i]>arr[j]):\n",
    "                inversion_count+=1\n",
    "    return inversion_count\n",
    "\n",
    "arr=[1,20,6,4,5]\n",
    "n=len(arr)\n",
    "print(getIvercount(arr,n))"
   ]
  },
  {
   "cell_type": "code",
   "execution_count": 16,
   "id": "f6d2a255",
   "metadata": {},
   "outputs": [
    {
     "name": "stdout",
     "output_type": "stream",
     "text": [
      "[0, 0, 0, 1, 1, 1, 2, 2]\n"
     ]
    }
   ],
   "source": [
    "#Python Program to Sort an array of 0s, 1s and 2s\n",
    "\n",
    "import array\n",
    "def sortWithoutSorting(arr):\n",
    "    l1=[]\n",
    "    l2=[]\n",
    "    l3=[]\n",
    "    for i in range(len(arr)):\n",
    "        if arr[i]==0:\n",
    "            l1.append(arr[i])\n",
    "        elif arr[i]==1:\n",
    "            l2.append(arr[i])\n",
    "        else:\n",
    "            l3.append(arr[i])\n",
    "    return (l1+l2+l3)\n",
    "arr=array.array('i',[0, 1, 0, 1, 2, 2, 0, 1])\n",
    "print(sortWithoutSorting(arr))"
   ]
  },
  {
   "cell_type": "code",
   "execution_count": 17,
   "id": "c26fbfc3",
   "metadata": {},
   "outputs": [
    {
     "name": "stdout",
     "output_type": "stream",
     "text": [
      "[0, 0, 0, 1, 1, 1, 2, 2]\n"
     ]
    }
   ],
   "source": [
    "def sortWithoutSorting(arr):\n",
    "    l1=[]\n",
    "    l2=[]\n",
    "    l3=[]\n",
    "    for i in range(len(arr)):\n",
    "        if arr[i]==0:\n",
    "            l1.append(arr[i])\n",
    "        elif arr[i]==1:\n",
    "            l2.append(arr[i])\n",
    "        else:\n",
    "            l3.append(arr[i])\n",
    "    return (l1+l2+l3)\n",
    "arr=[0, 1, 0, 1, 2, 2, 0, 1]\n",
    "print(sortWithoutSorting(arr))"
   ]
  },
  {
   "cell_type": "code",
   "execution_count": 20,
   "id": "7231ab04",
   "metadata": {},
   "outputs": [
    {
     "name": "stdout",
     "output_type": "stream",
     "text": [
      "3\n"
     ]
    }
   ],
   "source": [
    "# Python3 Program for Equilibrium index of an array\n",
    "# 1) Initialize leftsum  as 0\n",
    "# 2) Get the total sum of the array as sum\n",
    "# 3) Iterate through the array and for each index i, do following.\n",
    "#     a)  Update sum to get the right sum.  \n",
    "#            sum = sum - arr[i] \n",
    "#        // sum is now right sum\n",
    "#     b) If leftsum is equal to sum, then return current index. \n",
    "#        // update leftsum for next iteration.\n",
    "#     c) leftsum = leftsum + arr[i]\n",
    "# 4) return -1 \n",
    "# // If we come out of loop without returning then\n",
    "# // there is no equilibrium index\n",
    "\n",
    "\n",
    "def equilibrium(arr):\n",
    "    #finding the sum of whole array\n",
    "    total_sum=sum(arr)\n",
    "    left_sum=0\n",
    "    for i,num in enumerate(arr):\n",
    "        #total sum is now right sum\n",
    "        total_sum-=num\n",
    "        if left_sum==total_sum:\n",
    "            return i\n",
    "        left_sum +=num\n",
    "        \n",
    "        #if no equilibrium index found return -1\n",
    "    return -1\n",
    "arr = [-7, 1, 5, 2, -4, 3, 0]\n",
    "print(equilibrium(arr))"
   ]
  },
  {
   "cell_type": "code",
   "execution_count": 21,
   "id": "86f4487e",
   "metadata": {},
   "outputs": [
    {
     "name": "stdout",
     "output_type": "stream",
     "text": [
      "17 5 2 "
     ]
    }
   ],
   "source": [
    "#python function to print leaders in array\n",
    "\n",
    "def printleaders(arr,size):\n",
    "    for i in range(0,size):\n",
    "        for j in range(i+1,size):\n",
    "            if arr[i]<=arr[j]:\n",
    "                break\n",
    "        if j==size-1:\n",
    "            print(arr[i],end=\" \")\n",
    "\n",
    "arr=[16,17,4,3,5,2]\n",
    "printleaders(arr,len(arr))"
   ]
  },
  {
   "cell_type": "code",
   "execution_count": 23,
   "id": "ef6b6d00",
   "metadata": {},
   "outputs": [
    {
     "name": "stdout",
     "output_type": "stream",
     "text": [
      "2\n"
     ]
    }
   ],
   "source": [
    "# Program to find minimum number of platforms\n",
    "# required on a railway station\n",
    "\n",
    "def findplatform(arr,dep,n):\n",
    "    \n",
    "    plat_needed=1\n",
    "    result=1\n",
    "    \n",
    "    for i in range(n):\n",
    "        plat_needed=1\n",
    "        \n",
    "        for j in range(n):\n",
    "            #check for overlap\n",
    "            if i!=j:\n",
    "                if(arr[i]>=arr[j] and dep[j]>=arr[i]):\n",
    "                    plat_needed+=1\n",
    "        result=max(result,plat_needed)\n",
    "    return result\n",
    "# def main():\n",
    "#     arr = [100, 300, 500]\n",
    "#     dep = [900, 400, 600]\n",
    " \n",
    "#     n = len(arr)\n",
    " \n",
    "#     print(\"{}\".format(\n",
    "#         findPlatform(arr, dep, n)))\n",
    " \n",
    " \n",
    "# if __name__ == '__main__':\n",
    "#     main()\n",
    "\n",
    "arr = [100, 300, 500]\n",
    "dep = [900, 400, 600]\n",
    " \n",
    "n = len(arr)\n",
    " \n",
    "print(\"{}\".format(findplatform(arr, dep, n)))"
   ]
  },
  {
   "cell_type": "code",
   "execution_count": 18,
   "id": "d90552cb",
   "metadata": {},
   "outputs": [
    {
     "data": {
      "text/plain": [
       "0"
      ]
     },
     "execution_count": 18,
     "metadata": {},
     "output_type": "execute_result"
    }
   ],
   "source": [
    "arr = [-7, 1, 5, 2, -4, 3, 0]\n",
    "sum(arr)"
   ]
  },
  {
   "cell_type": "code",
   "execution_count": 7,
   "id": "282d46bc",
   "metadata": {},
   "outputs": [
    {
     "name": "stdout",
     "output_type": "stream",
     "text": [
      "3 2 1 6 5 4 8 7 "
     ]
    }
   ],
   "source": [
    "def reverse(arr,n,k):\n",
    "    i=0\n",
    "    while(i<n):\n",
    "        left=i\n",
    "        right=min(i+k-1,n-1)\n",
    "        \n",
    "        while (left<right):\n",
    "            arr[left],arr[right]=arr[right],arr[left]\n",
    "            left+=1\n",
    "            right-=1\n",
    "        i+=k\n",
    "        \n",
    "arr = [1, 2, 3, 4, 5, 6, 7, 8]\n",
    "k=3\n",
    "n=len(arr)\n",
    "reverse(arr,n,k)\n",
    "\n",
    "for i in range(0,n):\n",
    "    print(arr[i],end=\" \")"
   ]
  },
  {
   "cell_type": "code",
   "execution_count": 8,
   "id": "65f3ba55",
   "metadata": {},
   "outputs": [
    {
     "name": "stdout",
     "output_type": "stream",
     "text": [
      "4\n"
     ]
    }
   ],
   "source": [
    "# Python3 program to find K'th smallest\n",
    "# element\n",
    "def Kthsmallest(arr,N,K):\n",
    "    arr.sort()\n",
    "    #return kth element in sorted array\n",
    "    return arr[K-1]\n",
    "if __name__=='__main__':\n",
    "    arr=[12,3,4,5,6,19]\n",
    "    N=len(arr)\n",
    "    K=2\n",
    "    print(Kthsmallest(arr,N,K))\n"
   ]
  },
  {
   "cell_type": "code",
   "execution_count": 9,
   "id": "5339f1ed",
   "metadata": {},
   "outputs": [
    {
     "name": "stdout",
     "output_type": "stream",
     "text": [
      "12\n"
     ]
    }
   ],
   "source": [
    "if __name__==\"__main__\":\n",
    "    arr=[12,3,5,7,19]\n",
    "    N=len(arr)\n",
    "    K=4\n",
    "    s=set(arr)\n",
    "    \n",
    "    for itr in s:\n",
    "        if K==1:\n",
    "            print(itr)\n",
    "            break\n",
    "        K -=1"
   ]
  },
  {
   "cell_type": "markdown",
   "id": "583a597c",
   "metadata": {},
   "source": [
    "#heap Sort "
   ]
  },
  {
   "cell_type": "code",
   "execution_count": 6,
   "id": "ebb607c9",
   "metadata": {},
   "outputs": [
    {
     "name": "stdout",
     "output_type": "stream",
     "text": [
      "[11, 8, 7, 0, 6, 2, 5]\n"
     ]
    }
   ],
   "source": [
    "def max_heapify(A,i):\n",
    "    l=left(i)\n",
    "    r=right(i)\n",
    "    if l<len(A) and A[l]>A[i]:\n",
    "        largest=l\n",
    "    else:\n",
    "        largest=i\n",
    "    \n",
    "    if r<len(A) and A[r]>A[largest]:\n",
    "        largest=r\n",
    "    if largest!=i:\n",
    "        A[i],A[largest]=A[largest],A[i]\n",
    "        max_heapify(A,largest)\n",
    "    \n",
    "def left(i):\n",
    "    return 2*i+1\n",
    "def right(i):\n",
    "    return 2*i+2\n",
    "\n",
    "def build_max_heap(A):\n",
    "    n=int((len(A)//2)-1)\n",
    "    for i in range(n,-1,-1):\n",
    "        max_heapify(A,i)\n",
    "        \n",
    "A=[11,6,5,0,8,2,7]\n",
    "build_max_heap(A)\n",
    "print(A)"
   ]
  },
  {
   "cell_type": "code",
   "execution_count": 8,
   "id": "ba6278f0",
   "metadata": {},
   "outputs": [
    {
     "name": "stdout",
     "output_type": "stream",
     "text": [
      "3 4 5\n",
      "8 6 10\n",
      "5 12 13\n"
     ]
    }
   ],
   "source": [
    "# Function to generate pythagorean\n",
    "# triplets smaller than limit\n",
    "def pythagoreanTriplets(limits):\n",
    "    c,m=0,2\n",
    "    \n",
    "    #limiting c would limit all a,b and c\n",
    "    while c<limits:\n",
    "        #now loop on from 1 to n-1\n",
    "        for n in range(1,m+1):\n",
    "            a=m*m-n*n\n",
    "            b=2*m*n\n",
    "            c=m*m+n*n\n",
    "            if c>limit:\n",
    "                break\n",
    "            if a==0 or b==0 or c==0:\n",
    "                break\n",
    "            print(a,b,c)\n",
    "        m=m+1\n",
    "        \n",
    "if __name__==\"__main__\":\n",
    "    \n",
    "    limit=15\n",
    "    pythagoreanTriplets(limit)"
   ]
  },
  {
   "cell_type": "code",
   "execution_count": 9,
   "id": "53e08620",
   "metadata": {},
   "outputs": [
    {
     "name": "stdout",
     "output_type": "stream",
     "text": [
      "7\n"
     ]
    }
   ],
   "source": [
    "# We are given an array of size n where each value represents the number of chocolates in a packet. Each packet can have a variable number of chocolates.   There are m students, the task is to distribute chocolate packets such that: \n",
    "\n",
    "# Each student gets one packet.\n",
    "# The difference between minimum and maximum selected packet is minimum.\n",
    "\n",
    "def minDiff(arr,m,l):\n",
    "    ans=1000\n",
    "    arr.sort()\n",
    "    for i in range(l-(m-1)):\n",
    "        if arr[i+m-1]-arr[i]<ans:\n",
    "            ans=arr[i+m-1]-arr[i]\n",
    "    return ans\n",
    "\n",
    "arr = [12, 4, 7, 9, 2, 23, 25]\n",
    "m = 4\n",
    "l = len(arr)\n",
    "print(minDiff(arr, m, l))"
   ]
  },
  {
   "cell_type": "code",
   "execution_count": 12,
   "id": "54dc3f70",
   "metadata": {},
   "outputs": [
    {
     "ename": "TypeError",
     "evalue": "'int' object is not subscriptable",
     "output_type": "error",
     "traceback": [
      "\u001b[1;31m---------------------------------------------------------------------------\u001b[0m",
      "\u001b[1;31mTypeError\u001b[0m                                 Traceback (most recent call last)",
      "\u001b[1;32m~\\AppData\\Local\\Temp\\ipykernel_14168\\1846285223.py\u001b[0m in \u001b[0;36m<module>\u001b[1;34m\u001b[0m\n\u001b[0;32m     32\u001b[0m     \u001b[0mend\u001b[0m\u001b[1;33m=\u001b[0m\u001b[0mlen\u001b[0m\u001b[1;33m(\u001b[0m\u001b[0mprice\u001b[0m\u001b[1;33m)\u001b[0m\u001b[1;33m-\u001b[0m\u001b[1;36m1\u001b[0m\u001b[1;33m\u001b[0m\u001b[1;33m\u001b[0m\u001b[0m\n\u001b[0;32m     33\u001b[0m     \u001b[0mstart\u001b[0m\u001b[1;33m=\u001b[0m\u001b[1;36m0\u001b[0m\u001b[1;33m\u001b[0m\u001b[1;33m\u001b[0m\u001b[0m\n\u001b[1;32m---> 34\u001b[1;33m     \u001b[0mprint\u001b[0m\u001b[1;33m(\u001b[0m\u001b[0mmaxprofit\u001b[0m\u001b[1;33m(\u001b[0m\u001b[0mprice\u001b[0m\u001b[1;33m,\u001b[0m\u001b[0mstart\u001b[0m\u001b[1;33m,\u001b[0m\u001b[0mend\u001b[0m\u001b[1;33m)\u001b[0m\u001b[1;33m)\u001b[0m\u001b[1;33m\u001b[0m\u001b[1;33m\u001b[0m\u001b[0m\n\u001b[0m",
      "\u001b[1;32m~\\AppData\\Local\\Temp\\ipykernel_14168\\1846285223.py\u001b[0m in \u001b[0;36mmaxprofit\u001b[1;34m(price, start, end)\u001b[0m\n\u001b[0;32m     22\u001b[0m \u001b[1;33m\u001b[0m\u001b[0m\n\u001b[0;32m     23\u001b[0m                 \u001b[1;31m#update the current profit\u001b[0m\u001b[1;33m\u001b[0m\u001b[1;33m\u001b[0m\u001b[0m\n\u001b[1;32m---> 24\u001b[1;33m                 \u001b[0mcurr_profit\u001b[0m\u001b[1;33m=\u001b[0m\u001b[0mprofit\u001b[0m\u001b[1;33m[\u001b[0m\u001b[0mj\u001b[0m\u001b[1;33m]\u001b[0m\u001b[1;33m-\u001b[0m\u001b[0mprofit\u001b[0m\u001b[1;33m[\u001b[0m\u001b[0mi\u001b[0m\u001b[1;33m]\u001b[0m\u001b[1;33m+\u001b[0m\u001b[0mmaxprofit\u001b[0m\u001b[1;33m(\u001b[0m\u001b[0mprice\u001b[0m\u001b[1;33m,\u001b[0m\u001b[0mstart\u001b[0m\u001b[1;33m,\u001b[0m\u001b[0mi\u001b[0m\u001b[1;33m-\u001b[0m\u001b[1;36m1\u001b[0m\u001b[1;33m)\u001b[0m\u001b[1;33m+\u001b[0m\u001b[0mmaxprofit\u001b[0m\u001b[1;33m(\u001b[0m\u001b[0mprice\u001b[0m\u001b[1;33m,\u001b[0m\u001b[0mj\u001b[0m\u001b[1;33m+\u001b[0m\u001b[1;36m1\u001b[0m\u001b[1;33m,\u001b[0m\u001b[0mend\u001b[0m\u001b[1;33m)\u001b[0m\u001b[1;33m\u001b[0m\u001b[1;33m\u001b[0m\u001b[0m\n\u001b[0m\u001b[0;32m     25\u001b[0m \u001b[1;33m\u001b[0m\u001b[0m\n\u001b[0;32m     26\u001b[0m                 \u001b[1;31m#update max profit\u001b[0m\u001b[1;33m\u001b[0m\u001b[1;33m\u001b[0m\u001b[0m\n",
      "\u001b[1;31mTypeError\u001b[0m: 'int' object is not subscriptable"
     ]
    }
   ],
   "source": [
    "# The cost of a stock on each day is given in an array,\n",
    "# find the max profit that you can make by buying and selling\n",
    "# in those days. For example, if the given array is \n",
    "# {100, 180, 260, 310, 40, 535, 695}, the maximum profit can e\n",
    "# arned by buying on day 0, selling on day 3.\n",
    "# Again buy on day 4 and sell on day 6.\n",
    "# If the given array of prices is sorted in decreasing order,\n",
    "\n",
    "# then profit cannot be earned at all.\n",
    "\n",
    "def maxprofit(price,start,end):\n",
    "    if end<start:\n",
    "        return 0\n",
    "    #initialize the profit 0\n",
    "    profit=0\n",
    "#     the dat at which the stock must be bought\n",
    "    for i in range(start,end,1):\n",
    "        for j in range(i+1,end+1):\n",
    "            #if buyying the stock in ith day and \n",
    "            #selling in jth day is profitable\n",
    "            if(price[j]>price[i]):\n",
    "                \n",
    "                #update the current profit\n",
    "                curr_profit=profit[j]-profit[i]+maxprofit(price,start,i-1)+maxprofit(price,j+1,end)\n",
    "                \n",
    "                #update max profit\n",
    "                profit=max(profit,curr_profit)\n",
    "    return profit\n",
    "\n",
    "if __name__==\"__main__\":\n",
    "    price=[100,180,260,310,40,535,695];\n",
    "    end=len(price)-1\n",
    "    start=0\n",
    "    print(maxprofit(price,start,end))"
   ]
  },
  {
   "cell_type": "code",
   "execution_count": null,
   "id": "7e31e0f1",
   "metadata": {},
   "outputs": [],
   "source": [
    "def buystocksell(price,n):\n",
    "    if n==1:\n",
    "        return\n",
    "    \n",
    "    i=0\n",
    "    while(i<(n-1)):\n",
    "        while(i<(n-1)) and (price[i+1]<=price[i]):\n",
    "            i+=1\n",
    "        if (i==n-1):\n",
    "            break\n",
    "            \n",
    "        buy=i\n",
    "        i+=1\n",
    "        \n",
    "        while(i<n) and (price[i+1]>=price[i]):\n",
    "            i+=1\n",
    "        sell=i-1\n",
    "            \n",
    "        buy=i\n",
    "        i+=1"
   ]
  },
  {
   "cell_type": "code",
   "execution_count": 13,
   "id": "0dd6f202",
   "metadata": {},
   "outputs": [
    {
     "name": "stdout",
     "output_type": "stream",
     "text": [
      "865\n"
     ]
    }
   ],
   "source": [
    "def max_profit(prices,n):\n",
    "    profit=0\n",
    "    for i in range(1,n):\n",
    "        if prices[i]>prices[i-1]:\n",
    "            profit+=prices[i]-prices[i-1]\n",
    "    return profit\n",
    "if __name__ == '__main__':\n",
    " \n",
    "    # Stock prices on consecutive days\n",
    "    prices = [100, 180, 260,\n",
    "              310, 40, 535, 695]\n",
    "    n=len(prices)\n",
    " \n",
    "    # Function call\n",
    "    profit = max_profit(prices, n)\n",
    "    print(profit)"
   ]
  },
  {
   "cell_type": "code",
   "execution_count": 7,
   "id": "2748fd48",
   "metadata": {},
   "outputs": [
    {
     "ename": "NameError",
     "evalue": "name 'twosum' is not defined",
     "output_type": "error",
     "traceback": [
      "\u001b[1;31m---------------------------------------------------------------------------\u001b[0m",
      "\u001b[1;31mNameError\u001b[0m                                 Traceback (most recent call last)",
      "\u001b[1;32m~\\AppData\\Local\\Temp\\ipykernel_7728\\2900746581.py\u001b[0m in \u001b[0;36m<module>\u001b[1;34m\u001b[0m\n\u001b[0;32m     10\u001b[0m \u001b[0mnums\u001b[0m\u001b[1;33m=\u001b[0m\u001b[1;33m[\u001b[0m\u001b[1;36m2\u001b[0m\u001b[1;33m,\u001b[0m\u001b[1;36m7\u001b[0m\u001b[1;33m,\u001b[0m\u001b[1;36m11\u001b[0m\u001b[1;33m,\u001b[0m\u001b[1;36m15\u001b[0m\u001b[1;33m]\u001b[0m\u001b[1;33m\u001b[0m\u001b[1;33m\u001b[0m\u001b[0m\n\u001b[0;32m     11\u001b[0m \u001b[0mtarget\u001b[0m\u001b[1;33m=\u001b[0m\u001b[1;36m9\u001b[0m\u001b[1;33m\u001b[0m\u001b[1;33m\u001b[0m\u001b[0m\n\u001b[1;32m---> 12\u001b[1;33m \u001b[0mprint\u001b[0m\u001b[1;33m(\u001b[0m\u001b[0mtwosum\u001b[0m\u001b[1;33m(\u001b[0m\u001b[0mself\u001b[0m\u001b[1;33m,\u001b[0m\u001b[0mnums\u001b[0m\u001b[1;33m,\u001b[0m\u001b[0mtarget\u001b[0m\u001b[1;33m)\u001b[0m\u001b[1;33m)\u001b[0m\u001b[1;33m\u001b[0m\u001b[1;33m\u001b[0m\u001b[0m\n\u001b[0m",
      "\u001b[1;31mNameError\u001b[0m: name 'twosum' is not defined"
     ]
    }
   ],
   "source": [
    "class solution(object):\n",
    "    def twosum(self,nums,target):\n",
    "        dict={}\n",
    "        for i in range(len(nums)):\n",
    "            x=nums[i]\n",
    "            if target-x in dict:\n",
    "                return (dict[target-x],i)\n",
    "            dict[x]=i\n",
    "            \n",
    "nums=[2,7,11,15]\n",
    "target=9\n",
    "print(twosum(self,nums,target))"
   ]
  },
  {
   "cell_type": "code",
   "execution_count": 8,
   "id": "f43e8a82",
   "metadata": {},
   "outputs": [
    {
     "name": "stdout",
     "output_type": "stream",
     "text": [
      "[1, 3, 2, 6, 4, 8, 7]\n"
     ]
    }
   ],
   "source": [
    "def zigzag(arr,n):\n",
    "    \n",
    "    arr.sort()\n",
    "    #traversing the array from 1 to n-1\n",
    "    for i in range(1,n-1,2):\n",
    "        #swap values of current elements with next element\n",
    "        \n",
    "        arr[i],arr[i+1]=arr[i+1],arr[i]\n",
    "    print(arr)\n",
    "    \n",
    "if __name__==\"__main__\":\n",
    "    arr=[4,3,7,8,6,2,1]\n",
    "    n=len(arr)\n",
    "    zigzag(arr,n)"
   ]
  },
  {
   "cell_type": "code",
   "execution_count": null,
   "id": "6cffb964",
   "metadata": {},
   "outputs": [],
   "source": [
    "def findlastindex(str,x):\n",
    "    index=-1\n",
    "    for i in range(0,len(str)):\n",
    "        if str[i]==i:\n",
    "            index=i\n",
    "    return index\n",
    "\n",
    "str=\"geeksforgeeks\"\n",
    "x=e\n",
    "index=findlastindex(str,x)\n",
    "\n",
    "if index==-1:\n",
    "    print(\"character not found\")\n",
    "else:\n",
    "    print('last index is',index)"
   ]
  },
  {
   "cell_type": "code",
   "execution_count": 32,
   "id": "d4c70ff1",
   "metadata": {},
   "outputs": [
    {
     "ename": "NameError",
     "evalue": "name 'self' is not defined",
     "output_type": "error",
     "traceback": [
      "\u001b[1;31m---------------------------------------------------------------------------\u001b[0m",
      "\u001b[1;31mNameError\u001b[0m                                 Traceback (most recent call last)",
      "\u001b[1;32m~\\AppData\\Local\\Temp\\ipykernel_7728\\3916885038.py\u001b[0m in \u001b[0;36m<module>\u001b[1;34m\u001b[0m\n\u001b[0;32m     39\u001b[0m         \u001b[1;33m[\u001b[0m\u001b[1;36m9\u001b[0m\u001b[1;33m,\u001b[0m \u001b[1;36m10\u001b[0m\u001b[1;33m,\u001b[0m \u001b[1;36m11\u001b[0m\u001b[1;33m,\u001b[0m \u001b[1;36m12\u001b[0m\u001b[1;33m]\u001b[0m\u001b[1;33m,\u001b[0m\u001b[1;33m\u001b[0m\u001b[1;33m\u001b[0m\u001b[0m\n\u001b[0;32m     40\u001b[0m         [13, 14, 15, 16]]\n\u001b[1;32m---> 41\u001b[1;33m \u001b[0mspiralorder\u001b[0m\u001b[1;33m(\u001b[0m\u001b[0mself\u001b[0m\u001b[1;33m,\u001b[0m\u001b[0mmatrix\u001b[0m\u001b[1;33m)\u001b[0m\u001b[1;33m\u001b[0m\u001b[1;33m\u001b[0m\u001b[0m\n\u001b[0m",
      "\u001b[1;31mNameError\u001b[0m: name 'self' is not defined"
     ]
    }
   ],
   "source": [
    "# Function for printing matrix in spiral\n",
    "# form i, j: Start index of matrix, row\n",
    "# and column respectively m, n: End index\n",
    "# of matrix row and column respectively\n",
    "\n",
    "def spiralorder(self,matrix):\n",
    "    self.matrix=matrix\n",
    "    res=[]\n",
    "    left,right=0,len(matrix[0])\n",
    "    top,bottom=0,len(matrix)\n",
    "    \n",
    "    \n",
    "    while left<right and top<bottom:\n",
    "        #get every i in the top row\n",
    "        for i in range(left,right):\n",
    "            res.append(matrix[top][i])\n",
    "        top+=1\n",
    "        \n",
    "        #getevery i in the right col\n",
    "        for i in range(top,bottom):\n",
    "            res.append(matrix[i][right-1])\n",
    "        right -=1\n",
    "        \n",
    "        if not (left<right and top<bottom):\n",
    "            break\n",
    "            \n",
    "        #get every i in the bottom row\n",
    "        for i in range(right-1,left-1,-1):\n",
    "            res.append(matrix[bottom-1][i])\n",
    "        bottom-=1\n",
    "        \n",
    "        #get every i in the left col\n",
    "        for i in range(bottom-1,top-1,-1):\n",
    "            left+=1\n",
    "    return res\n",
    "        \n",
    "matrix=[[1, 2, 3, 4],\n",
    "        [5, 6, 7, 8],\n",
    "        [9, 10, 11, 12],\n",
    "        [13, 14, 15, 16]]\n",
    "spiralorder(self,matrix)"
   ]
  },
  {
   "cell_type": "code",
   "execution_count": 30,
   "id": "b4ca4a75",
   "metadata": {},
   "outputs": [
    {
     "ename": "NameError",
     "evalue": "name 'self' is not defined",
     "output_type": "error",
     "traceback": [
      "\u001b[1;31m---------------------------------------------------------------------------\u001b[0m",
      "\u001b[1;31mNameError\u001b[0m                                 Traceback (most recent call last)",
      "\u001b[1;32m~\\AppData\\Local\\Temp\\ipykernel_7728\\181315738.py\u001b[0m in \u001b[0;36m<module>\u001b[1;34m\u001b[0m\n\u001b[0;32m      5\u001b[0m     \u001b[1;32mreturn\u001b[0m \u001b[1;34m\"\"\u001b[0m\u001b[1;33m.\u001b[0m\u001b[0mjoin\u001b[0m\u001b[1;33m(\u001b[0m\u001b[0msorted\u001b[0m\u001b[1;33m(\u001b[0m\u001b[0marr\u001b[0m\u001b[1;33m,\u001b[0m\u001b[0mreverse\u001b[0m\u001b[1;33m=\u001b[0m\u001b[1;32mTrue\u001b[0m\u001b[1;33m,\u001b[0m\u001b[0mkey\u001b[0m\u001b[1;33m=\u001b[0m\u001b[1;32mlambda\u001b[0m \u001b[0mx\u001b[0m\u001b[1;33m:\u001b[0m\u001b[0mx\u001b[0m\u001b[1;33m*\u001b[0m\u001b[0mmax_length\u001b[0m\u001b[1;33m)\u001b[0m\u001b[1;33m)\u001b[0m\u001b[1;33m\u001b[0m\u001b[1;33m\u001b[0m\u001b[0m\n\u001b[0;32m      6\u001b[0m \u001b[0marr\u001b[0m\u001b[1;33m=\u001b[0m\u001b[1;33m[\u001b[0m\u001b[1;34m'3'\u001b[0m\u001b[1;33m,\u001b[0m \u001b[1;34m'30'\u001b[0m\u001b[1;33m,\u001b[0m \u001b[1;34m'34'\u001b[0m\u001b[1;33m,\u001b[0m \u001b[1;34m'5'\u001b[0m\u001b[1;33m,\u001b[0m \u001b[1;34m'9'\u001b[0m\u001b[1;33m]\u001b[0m\u001b[1;33m\u001b[0m\u001b[1;33m\u001b[0m\u001b[0m\n\u001b[1;32m----> 7\u001b[1;33m \u001b[0mprintlargest\u001b[0m\u001b[1;33m(\u001b[0m\u001b[0mself\u001b[0m\u001b[1;33m,\u001b[0m\u001b[0marr\u001b[0m\u001b[1;33m)\u001b[0m\u001b[1;33m\u001b[0m\u001b[1;33m\u001b[0m\u001b[0m\n\u001b[0m",
      "\u001b[1;31mNameError\u001b[0m: name 'self' is not defined"
     ]
    }
   ],
   "source": [
    "# largest number formed from an array\n",
    "\n",
    "def printlargest(self,arr):\n",
    "    max_length=len(max(arr,key=len))\n",
    "    return \"\".join(sorted(arr,reverse=True,key=lambda x:x*max_length))\n",
    "arr=['3', '30', '34', '5', '9']\n",
    "printlargest(self,arr)"
   ]
  },
  {
   "cell_type": "code",
   "execution_count": 31,
   "id": "5aff89a5",
   "metadata": {},
   "outputs": [
    {
     "name": "stdout",
     "output_type": "stream",
     "text": [
      "5454654860\n"
     ]
    }
   ],
   "source": [
    "def largestNumber(array):\n",
    "    if len(array)==1:\n",
    "        return str(array[0])\n",
    "    \n",
    "    for i in range(len(array)):\n",
    "        array[i]=str(array[i])\n",
    "        \n",
    "    for i in range(len(array)):\n",
    "        for j in range(i+1,len(array)):\n",
    "            if array[i]+array[j]>array[i]+array[j]:\n",
    "                array[i],array[j]=array[j],array[i]\n",
    "    result=''.join(array)\n",
    "    \n",
    "    if result=='0'*len(result):\n",
    "        return 0\n",
    "    else:\n",
    "        return result\n",
    "    \n",
    "if __name__==\"__main__\":\n",
    "    a=[54,546,548,60]\n",
    "    print(largestNumber(a))"
   ]
  },
  {
   "cell_type": "code",
   "execution_count": 41,
   "id": "fbdf5a42",
   "metadata": {},
   "outputs": [
    {
     "ename": "AttributeError",
     "evalue": "module 'sys' has no attribute 'maxint'",
     "output_type": "error",
     "traceback": [
      "\u001b[1;31m---------------------------------------------------------------------------\u001b[0m",
      "\u001b[1;31mAttributeError\u001b[0m                            Traceback (most recent call last)",
      "\u001b[1;32m~\\AppData\\Local\\Temp\\ipykernel_7728\\3455840361.py\u001b[0m in \u001b[0;36m<module>\u001b[1;34m\u001b[0m\n\u001b[0;32m     29\u001b[0m \u001b[0mword2\u001b[0m\u001b[1;33m=\u001b[0m\u001b[1;34m\"raju\"\u001b[0m\u001b[1;33m\u001b[0m\u001b[1;33m\u001b[0m\u001b[0m\n\u001b[0;32m     30\u001b[0m \u001b[0mwords\u001b[0m\u001b[1;33m=\u001b[0m\u001b[1;33m[\u001b[0m\u001b[1;34m\"ram\"\u001b[0m\u001b[1;33m,\u001b[0m\u001b[1;34m\"sweety\"\u001b[0m\u001b[1;33m,\u001b[0m\u001b[1;34m\"kanaka\"\u001b[0m\u001b[1;33m,\u001b[0m\u001b[1;34m\"raju\"\u001b[0m\u001b[1;33m,\u001b[0m\u001b[1;34m\"suma\"\u001b[0m\u001b[1;33m]\u001b[0m\u001b[1;33m\u001b[0m\u001b[1;33m\u001b[0m\u001b[0m\n\u001b[1;32m---> 31\u001b[1;33m \u001b[0mshortestdistance\u001b[0m\u001b[1;33m(\u001b[0m\u001b[0mwords\u001b[0m\u001b[1;33m,\u001b[0m\u001b[0mword1\u001b[0m\u001b[1;33m,\u001b[0m\u001b[0mword2\u001b[0m\u001b[1;33m)\u001b[0m\u001b[1;33m\u001b[0m\u001b[1;33m\u001b[0m\u001b[0m\n\u001b[0m",
      "\u001b[1;32m~\\AppData\\Local\\Temp\\ipykernel_7728\\3455840361.py\u001b[0m in \u001b[0;36mshortestdistance\u001b[1;34m(words, word1, word2)\u001b[0m\n\u001b[0;32m     18\u001b[0m             \u001b[0mword2_position\u001b[0m\u001b[1;33m.\u001b[0m\u001b[0mappend\u001b[0m\u001b[1;33m(\u001b[0m\u001b[0mi\u001b[0m\u001b[1;33m)\u001b[0m\u001b[1;33m\u001b[0m\u001b[1;33m\u001b[0m\u001b[0m\n\u001b[0;32m     19\u001b[0m \u001b[1;33m\u001b[0m\u001b[0m\n\u001b[1;32m---> 20\u001b[1;33m     \u001b[0mmin_dist\u001b[0m\u001b[1;33m=\u001b[0m\u001b[0msys\u001b[0m\u001b[1;33m.\u001b[0m\u001b[0mmaxint\u001b[0m\u001b[1;33m\u001b[0m\u001b[1;33m\u001b[0m\u001b[0m\n\u001b[0m\u001b[0;32m     21\u001b[0m     \u001b[1;32mfor\u001b[0m \u001b[0mpos1\u001b[0m \u001b[1;32min\u001b[0m \u001b[0mword1_position\u001b[0m\u001b[1;33m:\u001b[0m\u001b[1;33m\u001b[0m\u001b[1;33m\u001b[0m\u001b[0m\n\u001b[0;32m     22\u001b[0m         \u001b[1;32mfor\u001b[0m \u001b[0mpos2\u001b[0m \u001b[1;32min\u001b[0m \u001b[0mword2_position\u001b[0m\u001b[1;33m:\u001b[0m\u001b[1;33m\u001b[0m\u001b[1;33m\u001b[0m\u001b[0m\n",
      "\u001b[1;31mAttributeError\u001b[0m: module 'sys' has no attribute 'maxint'"
     ]
    }
   ],
   "source": [
    "# Shortest word distancee\n",
    "import sys\n",
    "def shortestdistance(words,word1,word2):\n",
    "    \"\"\"\n",
    "    type words:list[str]\n",
    "    type word1:str\n",
    "    type word2:str\n",
    "    rtype:int\n",
    "    \"\"\"\n",
    "    word1_position=[]\n",
    "    word2_position=[]\n",
    "    \n",
    "    for i in range(len(words)):\n",
    "        if word1==words[i]:\n",
    "            word1_position.append(i)\n",
    "        \n",
    "        if word2==words[i]:\n",
    "            word2_position.append(i)\n",
    "            \n",
    "    min_dist=sys.maxint\n",
    "    for pos1 in word1_position:\n",
    "        for pos2 in word2_position:\n",
    "            if abs(pos1-pos2)<min_dist:\n",
    "                min_dict=abs(pos1-pos2)\n",
    "                \n",
    "    return min_dict\n",
    "\n",
    "word1=\"kanaka\"\n",
    "word2=\"raju\"\n",
    "words=[\"ram\",\"sweety\",\"kanaka\",\"raju\",\"suma\"]\n",
    "shortestdistance(words,word1,word2)"
   ]
  },
  {
   "cell_type": "markdown",
   "id": "76b5cf98",
   "metadata": {},
   "source": [
    "# Array rotation approaches\n"
   ]
  },
  {
   "cell_type": "markdown",
   "id": "a047104a",
   "metadata": {},
   "source": [
    "###left arrray rottation\n",
    "\n",
    "steps:\n",
    "    declare and intialize the array and n\n",
    "    save first element of array in temp variable\n",
    "    shift remaining array elements one by one to left\n",
    "    copy temp value to last element in array\n",
    "    repeat step 2 to 4 until  condition satifies"
   ]
  },
  {
   "cell_type": "code",
   "execution_count": 10,
   "id": "4f6d92d7",
   "metadata": {},
   "outputs": [
    {
     "ename": "TypeError",
     "evalue": "print() got an unexpected keyword argument 'end'",
     "output_type": "error",
     "traceback": [
      "\u001b[1;31m---------------------------------------------------------------------------\u001b[0m",
      "\u001b[1;31mTypeError\u001b[0m                                 Traceback (most recent call last)",
      "\u001b[1;32m~\\AppData\\Local\\Temp\\ipykernel_1276\\220239682.py\u001b[0m in \u001b[0;36m<module>\u001b[1;34m\u001b[0m\n\u001b[0;32m     13\u001b[0m         \u001b[0marray\u001b[0m\u001b[1;33m[\u001b[0m\u001b[0mlen\u001b[0m\u001b[1;33m(\u001b[0m\u001b[0marray\u001b[0m\u001b[1;33m)\u001b[0m\u001b[1;33m-\u001b[0m\u001b[1;36m1\u001b[0m\u001b[1;33m]\u001b[0m\u001b[1;33m=\u001b[0m\u001b[0mtemp\u001b[0m\u001b[1;33m\u001b[0m\u001b[1;33m\u001b[0m\u001b[0m\n\u001b[0;32m     14\u001b[0m     \u001b[1;32mreturn\u001b[0m \u001b[0marray\u001b[0m\u001b[1;33m\u001b[0m\u001b[1;33m\u001b[0m\u001b[0m\n\u001b[1;32m---> 15\u001b[1;33m \u001b[0mprint\u001b[0m\u001b[1;33m(\u001b[0m\u001b[1;34m\"after rotation\"\u001b[0m\u001b[1;33m)\u001b[0m\u001b[1;33m\u001b[0m\u001b[1;33m\u001b[0m\u001b[0m\n\u001b[0m\u001b[0;32m     16\u001b[0m \u001b[0mprintArray\u001b[0m\u001b[1;33m(\u001b[0m\u001b[0marray\u001b[0m\u001b[1;33m)\u001b[0m\u001b[1;33m\u001b[0m\u001b[1;33m\u001b[0m\u001b[0m\n",
      "\u001b[1;32m~\\AppData\\Local\\Temp\\ipykernel_1276\\1214972371.py\u001b[0m in \u001b[0;36mprint\u001b[1;34m(array)\u001b[0m\n\u001b[0;32m      4\u001b[0m \u001b[1;32mdef\u001b[0m \u001b[0mprint\u001b[0m\u001b[1;33m(\u001b[0m\u001b[0marray\u001b[0m\u001b[1;33m)\u001b[0m\u001b[1;33m:\u001b[0m\u001b[1;33m\u001b[0m\u001b[1;33m\u001b[0m\u001b[0m\n\u001b[0;32m      5\u001b[0m     \u001b[1;32mfor\u001b[0m \u001b[0mi\u001b[0m \u001b[1;32min\u001b[0m \u001b[0mrange\u001b[0m\u001b[1;33m(\u001b[0m\u001b[1;36m0\u001b[0m\u001b[1;33m,\u001b[0m\u001b[0mlen\u001b[0m\u001b[1;33m(\u001b[0m\u001b[0marray\u001b[0m\u001b[1;33m)\u001b[0m\u001b[1;33m)\u001b[0m\u001b[1;33m:\u001b[0m\u001b[1;33m\u001b[0m\u001b[1;33m\u001b[0m\u001b[0m\n\u001b[1;32m----> 6\u001b[1;33m         \u001b[0mprint\u001b[0m\u001b[1;33m(\u001b[0m\u001b[0marray\u001b[0m\u001b[1;33m[\u001b[0m\u001b[0mi\u001b[0m\u001b[1;33m]\u001b[0m\u001b[1;33m,\u001b[0m\u001b[0mend\u001b[0m\u001b[1;33m=\u001b[0m\u001b[1;34m\" \"\u001b[0m\u001b[1;33m)\u001b[0m\u001b[1;33m\u001b[0m\u001b[1;33m\u001b[0m\u001b[0m\n\u001b[0m\u001b[0;32m      7\u001b[0m \u001b[1;33m\u001b[0m\u001b[0m\n\u001b[0;32m      8\u001b[0m \u001b[1;32mdef\u001b[0m \u001b[0mleftRotation\u001b[0m\u001b[1;33m(\u001b[0m\u001b[0marray\u001b[0m\u001b[1;33m,\u001b[0m\u001b[0mshift\u001b[0m\u001b[1;33m)\u001b[0m\u001b[1;33m:\u001b[0m\u001b[1;33m\u001b[0m\u001b[1;33m\u001b[0m\u001b[0m\n",
      "\u001b[1;31mTypeError\u001b[0m: print() got an unexpected keyword argument 'end'"
     ]
    }
   ],
   "source": [
    "array=[1,2,3,4,5]\n",
    "shift=2\n",
    "\n",
    "def printArray(array):\n",
    "    for i in range(0,len(array)):\n",
    "        print(array[i])\n",
    "\n",
    "def leftRotation(array,shift):\n",
    "    for i in range(0,shift):\n",
    "        temp=array[0]\n",
    "        for j in range(0,len(array)-1):\n",
    "            array[j]=array[j+1]\n",
    "        array[len(array)-1]=temp\n",
    "    return array\n",
    "\n",
    "Rotated_array=leftRotation(array,shift)\n",
    "print(Rotated_array)\n",
    "print(\"after rotation\")\n",
    "printArray(array)"
   ]
  },
  {
   "cell_type": "code",
   "execution_count": 9,
   "id": "a4548c1d",
   "metadata": {},
   "outputs": [
    {
     "ename": "TypeError",
     "evalue": "print() got an unexpected keyword argument 'end'",
     "output_type": "error",
     "traceback": [
      "\u001b[1;31m---------------------------------------------------------------------------\u001b[0m",
      "\u001b[1;31mTypeError\u001b[0m                                 Traceback (most recent call last)",
      "\u001b[1;32m~\\AppData\\Local\\Temp\\ipykernel_1276\\1216906432.py\u001b[0m in \u001b[0;36m<module>\u001b[1;34m\u001b[0m\n\u001b[0;32m     15\u001b[0m     \u001b[1;32mreturn\u001b[0m \u001b[0marray\u001b[0m\u001b[1;33m\u001b[0m\u001b[1;33m\u001b[0m\u001b[0m\n\u001b[0;32m     16\u001b[0m \u001b[1;33m\u001b[0m\u001b[0m\n\u001b[1;32m---> 17\u001b[1;33m \u001b[0mprint\u001b[0m\u001b[1;33m(\u001b[0m\u001b[1;34m\"Array Before Rotation: \"\u001b[0m\u001b[1;33m)\u001b[0m\u001b[1;33m\u001b[0m\u001b[1;33m\u001b[0m\u001b[0m\n\u001b[0m\u001b[0;32m     18\u001b[0m \u001b[0mprintArray\u001b[0m\u001b[1;33m(\u001b[0m\u001b[0marray\u001b[0m\u001b[1;33m)\u001b[0m\u001b[1;33m\u001b[0m\u001b[1;33m\u001b[0m\u001b[0m\n\u001b[0;32m     19\u001b[0m \u001b[1;33m\u001b[0m\u001b[0m\n",
      "\u001b[1;32m~\\AppData\\Local\\Temp\\ipykernel_1276\\1214972371.py\u001b[0m in \u001b[0;36mprint\u001b[1;34m(array)\u001b[0m\n\u001b[0;32m      4\u001b[0m \u001b[1;32mdef\u001b[0m \u001b[0mprint\u001b[0m\u001b[1;33m(\u001b[0m\u001b[0marray\u001b[0m\u001b[1;33m)\u001b[0m\u001b[1;33m:\u001b[0m\u001b[1;33m\u001b[0m\u001b[1;33m\u001b[0m\u001b[0m\n\u001b[0;32m      5\u001b[0m     \u001b[1;32mfor\u001b[0m \u001b[0mi\u001b[0m \u001b[1;32min\u001b[0m \u001b[0mrange\u001b[0m\u001b[1;33m(\u001b[0m\u001b[1;36m0\u001b[0m\u001b[1;33m,\u001b[0m\u001b[0mlen\u001b[0m\u001b[1;33m(\u001b[0m\u001b[0marray\u001b[0m\u001b[1;33m)\u001b[0m\u001b[1;33m)\u001b[0m\u001b[1;33m:\u001b[0m\u001b[1;33m\u001b[0m\u001b[1;33m\u001b[0m\u001b[0m\n\u001b[1;32m----> 6\u001b[1;33m         \u001b[0mprint\u001b[0m\u001b[1;33m(\u001b[0m\u001b[0marray\u001b[0m\u001b[1;33m[\u001b[0m\u001b[0mi\u001b[0m\u001b[1;33m]\u001b[0m\u001b[1;33m,\u001b[0m\u001b[0mend\u001b[0m\u001b[1;33m=\u001b[0m\u001b[1;34m\" \"\u001b[0m\u001b[1;33m)\u001b[0m\u001b[1;33m\u001b[0m\u001b[1;33m\u001b[0m\u001b[0m\n\u001b[0m\u001b[0;32m      7\u001b[0m \u001b[1;33m\u001b[0m\u001b[0m\n\u001b[0;32m      8\u001b[0m \u001b[1;32mdef\u001b[0m \u001b[0mleftRotation\u001b[0m\u001b[1;33m(\u001b[0m\u001b[0marray\u001b[0m\u001b[1;33m,\u001b[0m\u001b[0mshift\u001b[0m\u001b[1;33m)\u001b[0m\u001b[1;33m:\u001b[0m\u001b[1;33m\u001b[0m\u001b[1;33m\u001b[0m\u001b[0m\n",
      "\u001b[1;31mTypeError\u001b[0m: print() got an unexpected keyword argument 'end'"
     ]
    }
   ],
   "source": [
    "array = [1,2,3,4,5,6,7,8,9,10]\n",
    "shift = 4\n",
    "\n",
    "def printArray(array):\n",
    "    for i in range(0, len(array)):\n",
    "        print(array[i], end=' ')\n",
    "\n",
    "def leftRotation(array, shift):\n",
    "    for i in range(0, shift):\n",
    "        temp = array[0]  # saving First element in temp variable\n",
    "        for j in range(0, len(array) - 1):  # shift remaining array elements one by one\n",
    "            array[j] = array[j + 1]\n",
    "\n",
    "        array[len(array) - 1] = temp\n",
    "    return array\n",
    "\n",
    "print(\"Array Before Rotation: \")\n",
    "printArray(array)\n",
    "\n",
    "rotatedArray = leftRotation(array, shift)\n",
    "print(\"\\nArray after left rotation: \")\n",
    "printArray(rotatedArray)"
   ]
  },
  {
   "cell_type": "code",
   "execution_count": 24,
   "id": "f7bd7e51",
   "metadata": {},
   "outputs": [
    {
     "ename": "TypeError",
     "evalue": "print() got an unexpected keyword argument 'end'",
     "output_type": "error",
     "traceback": [
      "\u001b[1;31m---------------------------------------------------------------------------\u001b[0m",
      "\u001b[1;31mTypeError\u001b[0m                                 Traceback (most recent call last)",
      "\u001b[1;32m~\\AppData\\Local\\Temp\\ipykernel_1276\\3823364664.py\u001b[0m in \u001b[0;36m<module>\u001b[1;34m\u001b[0m\n\u001b[0;32m      4\u001b[0m     \u001b[1;32mif\u001b[0m \u001b[0mele\u001b[0m \u001b[1;32mnot\u001b[0m \u001b[1;32min\u001b[0m \u001b[0marr\u001b[0m\u001b[1;33m:\u001b[0m\u001b[1;33m\u001b[0m\u001b[1;33m\u001b[0m\u001b[0m\n\u001b[0;32m      5\u001b[0m         \u001b[0mmissing_element\u001b[0m\u001b[1;33m.\u001b[0m\u001b[0mappend\u001b[0m\u001b[1;33m(\u001b[0m\u001b[0mele\u001b[0m\u001b[1;33m)\u001b[0m\u001b[1;33m\u001b[0m\u001b[1;33m\u001b[0m\u001b[0m\n\u001b[1;32m----> 6\u001b[1;33m \u001b[0mprint\u001b[0m\u001b[1;33m(\u001b[0m\u001b[0mmissing_element\u001b[0m\u001b[1;33m)\u001b[0m\u001b[1;33m\u001b[0m\u001b[1;33m\u001b[0m\u001b[0m\n\u001b[0m",
      "\u001b[1;32m~\\AppData\\Local\\Temp\\ipykernel_1276\\1214972371.py\u001b[0m in \u001b[0;36mprint\u001b[1;34m(array)\u001b[0m\n\u001b[0;32m      4\u001b[0m \u001b[1;32mdef\u001b[0m \u001b[0mprint\u001b[0m\u001b[1;33m(\u001b[0m\u001b[0marray\u001b[0m\u001b[1;33m)\u001b[0m\u001b[1;33m:\u001b[0m\u001b[1;33m\u001b[0m\u001b[1;33m\u001b[0m\u001b[0m\n\u001b[0;32m      5\u001b[0m     \u001b[1;32mfor\u001b[0m \u001b[0mi\u001b[0m \u001b[1;32min\u001b[0m \u001b[0mrange\u001b[0m\u001b[1;33m(\u001b[0m\u001b[1;36m0\u001b[0m\u001b[1;33m,\u001b[0m\u001b[0mlen\u001b[0m\u001b[1;33m(\u001b[0m\u001b[0marray\u001b[0m\u001b[1;33m)\u001b[0m\u001b[1;33m)\u001b[0m\u001b[1;33m:\u001b[0m\u001b[1;33m\u001b[0m\u001b[1;33m\u001b[0m\u001b[0m\n\u001b[1;32m----> 6\u001b[1;33m         \u001b[0mprint\u001b[0m\u001b[1;33m(\u001b[0m\u001b[0marray\u001b[0m\u001b[1;33m[\u001b[0m\u001b[0mi\u001b[0m\u001b[1;33m]\u001b[0m\u001b[1;33m,\u001b[0m\u001b[0mend\u001b[0m\u001b[1;33m=\u001b[0m\u001b[1;34m\" \"\u001b[0m\u001b[1;33m)\u001b[0m\u001b[1;33m\u001b[0m\u001b[1;33m\u001b[0m\u001b[0m\n\u001b[0m\u001b[0;32m      7\u001b[0m \u001b[1;33m\u001b[0m\u001b[0m\n\u001b[0;32m      8\u001b[0m \u001b[1;32mdef\u001b[0m \u001b[0mleftRotation\u001b[0m\u001b[1;33m(\u001b[0m\u001b[0marray\u001b[0m\u001b[1;33m,\u001b[0m\u001b[0mshift\u001b[0m\u001b[1;33m)\u001b[0m\u001b[1;33m:\u001b[0m\u001b[1;33m\u001b[0m\u001b[1;33m\u001b[0m\u001b[0m\n",
      "\u001b[1;31mTypeError\u001b[0m: print() got an unexpected keyword argument 'end'"
     ]
    }
   ],
   "source": [
    "arr=[1,2,3,4,5,6,7,9,10]\n",
    "missing_element=[]\n",
    "for ele in range(arr[0],arr[-1]+1):\n",
    "    if ele not in arr:\n",
    "        missing_element.append(ele)\n",
    "print(missing_element)"
   ]
  },
  {
   "cell_type": "code",
   "execution_count": 28,
   "id": "6f106b95",
   "metadata": {},
   "outputs": [],
   "source": [
    "def missingelement(arr,N):\n",
    "    #creatig a list of zeroes\n",
    "    temp=[0]*(N+1)\n",
    "    for i in range(0,N):\n",
    "        temp[arr[-1]-1]=1\n",
    "    for i in range(0,N+1):\n",
    "        if temp[i]==0:\n",
    "            ans=i+1\n",
    "    print(ans)\n",
    "\n",
    "if __name__==\"__main__\":\n",
    "    arr=[1,2,3,4]\n",
    "    N=len(arr)\n",
    "      \n",
    "    print(missingelement=(arr,N))"
   ]
  },
  {
   "cell_type": "code",
   "execution_count": null,
   "id": "e7750d1c",
   "metadata": {},
   "outputs": [],
   "source": [
    "def getMissingNo(arr,n):\n",
    "    total=(n+1)*(n+2)/2\n",
    "    sum_of_A=sum(arr)\n",
    "    return total-sum_of_A"
   ]
  },
  {
   "cell_type": "code",
   "execution_count": null,
   "id": "425bf5ae",
   "metadata": {},
   "outputs": [],
   "source": [
    "def twoSum(nums,target):\n",
    "    seen={}\n",
    "    for i,num in enumerate(nums):\n",
    "        complement=target-num\n",
    "        if complement in seen:\n",
    "            return[seen[complement],i]"
   ]
  },
  {
   "cell_type": "code",
   "execution_count": null,
   "id": "9ba4a582",
   "metadata": {},
   "outputs": [],
   "source": []
  },
  {
   "cell_type": "code",
   "execution_count": null,
   "id": "0e546ef1",
   "metadata": {},
   "outputs": [],
   "source": []
  },
  {
   "cell_type": "code",
   "execution_count": null,
   "id": "4ffd2821",
   "metadata": {},
   "outputs": [],
   "source": []
  }
 ],
 "metadata": {
  "kernelspec": {
   "display_name": "Python 3 (ipykernel)",
   "language": "python",
   "name": "python3"
  },
  "language_info": {
   "codemirror_mode": {
    "name": "ipython",
    "version": 3
   },
   "file_extension": ".py",
   "mimetype": "text/x-python",
   "name": "python",
   "nbconvert_exporter": "python",
   "pygments_lexer": "ipython3",
   "version": "3.9.13"
  }
 },
 "nbformat": 4,
 "nbformat_minor": 5
}
