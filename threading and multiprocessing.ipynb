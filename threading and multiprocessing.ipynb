{
 "cells": [
  {
   "cell_type": "code",
   "execution_count": 21,
   "id": "9d5569e5",
   "metadata": {},
   "outputs": [
    {
     "name": "stdout",
     "output_type": "stream",
     "text": [
      "sleeping 5 second\n",
      "sleeping 3 second\n",
      "sleeping 2 second\n",
      "sleeping 1 second\n"
     ]
    },
    {
     "ename": "AttributeError",
     "evalue": "'Future' object has no attribute 'results'",
     "output_type": "error",
     "traceback": [
      "\u001b[1;31m---------------------------------------------------------------------------\u001b[0m",
      "\u001b[1;31mAttributeError\u001b[0m                            Traceback (most recent call last)",
      "\u001b[1;32m~\\AppData\\Local\\Temp\\ipykernel_3164\\1105955017.py\u001b[0m in \u001b[0;36m<module>\u001b[1;34m\u001b[0m\n\u001b[0;32m     22\u001b[0m     \u001b[0mresults\u001b[0m\u001b[1;33m=\u001b[0m\u001b[1;33m[\u001b[0m\u001b[0mexecutor\u001b[0m\u001b[1;33m.\u001b[0m\u001b[0msubmit\u001b[0m\u001b[1;33m(\u001b[0m\u001b[0mdo_something\u001b[0m\u001b[1;33m,\u001b[0m\u001b[0msec\u001b[0m\u001b[1;33m)\u001b[0m \u001b[1;32mfor\u001b[0m \u001b[0msec\u001b[0m \u001b[1;32min\u001b[0m \u001b[0msecs\u001b[0m\u001b[1;33m]\u001b[0m\u001b[1;33m\u001b[0m\u001b[1;33m\u001b[0m\u001b[0m\n\u001b[0;32m     23\u001b[0m     \u001b[1;32mfor\u001b[0m \u001b[0mf\u001b[0m \u001b[1;32min\u001b[0m \u001b[0mconcurrent\u001b[0m\u001b[1;33m.\u001b[0m\u001b[0mfutures\u001b[0m\u001b[1;33m.\u001b[0m\u001b[0mas_completed\u001b[0m\u001b[1;33m(\u001b[0m\u001b[0mresults\u001b[0m\u001b[1;33m)\u001b[0m\u001b[1;33m:\u001b[0m\u001b[1;33m\u001b[0m\u001b[1;33m\u001b[0m\u001b[0m\n\u001b[1;32m---> 24\u001b[1;33m         \u001b[0mprint\u001b[0m\u001b[1;33m(\u001b[0m\u001b[0mf\u001b[0m\u001b[1;33m.\u001b[0m\u001b[0mresults\u001b[0m\u001b[1;33m(\u001b[0m\u001b[1;33m)\u001b[0m\u001b[1;33m)\u001b[0m\u001b[1;33m\u001b[0m\u001b[1;33m\u001b[0m\u001b[0m\n\u001b[0m\u001b[0;32m     25\u001b[0m \u001b[1;33m\u001b[0m\u001b[0m\n\u001b[0;32m     26\u001b[0m \u001b[1;31m#     f1=executor.submit(do_something,1)\u001b[0m\u001b[1;33m\u001b[0m\u001b[1;33m\u001b[0m\u001b[0m\n",
      "\u001b[1;31mAttributeError\u001b[0m: 'Future' object has no attribute 'results'"
     ]
    }
   ],
   "source": [
    "import time\n",
    "# import threading\n",
    "import concurrent.futures\n",
    "start=time.perf_counter()\n",
    "\n",
    "def do_something(seconds):\n",
    "    print(f\"sleeping {seconds} second\")\n",
    "    time.sleep(seconds)\n",
    "    return f\"done something  {seconds}\"\n",
    "    \n",
    "# t1=threading.Thread(target=do_something)\n",
    "# t2=threading.Thread(target=do_something)\n",
    "\n",
    "# t1.start()\n",
    "# t2.start()\n",
    "\n",
    "# t1.join()\n",
    "# t1.join()\n",
    "\n",
    "with concurrent.futures.ThreadPoolExecutor() as executor:\n",
    "    secs=[5,3,2,1]\n",
    "    results=[executor.submit(do_something,sec) for sec in secs]\n",
    "    for f in concurrent.futures.as_completed(results):\n",
    "        print(f.results())\n",
    "\n",
    "#     f1=executor.submit(do_something,1)\n",
    "#     f2=executor.submit(do_something,1)\n",
    "#     print(f1.result())\n",
    "#     print(f2.result())\n",
    "# threads=[]\n",
    "# for _ in range(10):\n",
    "#     t=threading.Thread(target=do_something,args=[1.5])\n",
    "#     t.start()\n",
    "#     threads.append(t)\n",
    "    \n",
    "# for thread in threads:\n",
    "#     thread.join()\n",
    "do_something()\n",
    "finish=time.pref_counter()\n",
    "print(f'finished in {round(finish-start,2)} seconds(s)')"
   ]
  },
  {
   "cell_type": "code",
   "execution_count": 24,
   "id": "1422c48a",
   "metadata": {},
   "outputs": [
    {
     "ename": "AttributeError",
     "evalue": "module 'time' has no attribute 'pref_counter'",
     "output_type": "error",
     "traceback": [
      "\u001b[1;31m---------------------------------------------------------------------------\u001b[0m",
      "\u001b[1;31mAttributeError\u001b[0m                            Traceback (most recent call last)",
      "\u001b[1;32m~\\AppData\\Local\\Temp\\ipykernel_3164\\2246997467.py\u001b[0m in \u001b[0;36m<module>\u001b[1;34m\u001b[0m\n\u001b[0;32m     19\u001b[0m     \u001b[1;34m'https://images.unsplash.com/photo-1549692520-acc6669e2f0c'\u001b[0m\u001b[1;33m\u001b[0m\u001b[1;33m\u001b[0m\u001b[0m\n\u001b[0;32m     20\u001b[0m ]\n\u001b[1;32m---> 21\u001b[1;33m \u001b[0mt1\u001b[0m\u001b[1;33m=\u001b[0m\u001b[0mtime\u001b[0m\u001b[1;33m.\u001b[0m\u001b[0mpref_counter\u001b[0m\u001b[1;33m(\u001b[0m\u001b[1;33m)\u001b[0m\u001b[1;33m\u001b[0m\u001b[1;33m\u001b[0m\u001b[0m\n\u001b[0m\u001b[0;32m     22\u001b[0m \u001b[1;33m\u001b[0m\u001b[0m\n\u001b[0;32m     23\u001b[0m \u001b[1;32mdef\u001b[0m \u001b[0mdownload_image\u001b[0m\u001b[1;33m(\u001b[0m\u001b[0mimg_url\u001b[0m\u001b[1;33m)\u001b[0m\u001b[1;33m:\u001b[0m\u001b[1;33m\u001b[0m\u001b[1;33m\u001b[0m\u001b[0m\n",
      "\u001b[1;31mAttributeError\u001b[0m: module 'time' has no attribute 'pref_counter'"
     ]
    }
   ],
   "source": [
    "import requests\n",
    "import time\n",
    "import concurrent.futures\n",
    "img_urls=[\n",
    "    'https://images.unsplash.com/photo-1516117172878-fd2c41f4a759',\n",
    "    'https://images.unsplash.com/photo-1532009324734-20a7a5813719',\n",
    "    'https://images.unsplash.com/photo-1524429656589-6633a470097c',\n",
    "    'https://images.unsplash.com/photo-1530224264768-7ff8c1789d79',\n",
    "    'https://images.unsplash.com/photo-1564135624576-c5c88640f235',\n",
    "    'https://images.unsplash.com/photo-1541698444083-023c97d3f4b6',\n",
    "    'https://images.unsplash.com/photo-1522364723953-452d3431c267',\n",
    "    'https://images.unsplash.com/photo-1513938709626-033611b8cc03',\n",
    "    'https://images.unsplash.com/photo-1507143550189-fed454f93097',\n",
    "    'https://images.unsplash.com/photo-1493976040374-85c8e12f0c0e',\n",
    "    'https://images.unsplash.com/photo-1504198453319-5ce911bafcde',\n",
    "    'https://images.unsplash.com/photo-1530122037265-a5f1f91d3b99',\n",
    "    'https://images.unsplash.com/photo-1516972810927-80185027ca84',\n",
    "    'https://images.unsplash.com/photo-1550439062-609e1531270e',\n",
    "    'https://images.unsplash.com/photo-1549692520-acc6669e2f0c'\n",
    "]\n",
    "t1=time.pref_counter()\n",
    "\n",
    "def download_image(img_url):\n",
    "    image_bytes=requests.get(img_url).content\n",
    "    img_name=img_url.split('/')[3]\n",
    "    img_name=f'{img_name}.jpg'\n",
    "    with open(img_name,'wb') as img_file:\n",
    "        img_file.write(img_bytes)\n",
    "        print(f'{img_name} was downloaded')\n",
    "with concurrent.futures.ThreadPoolExecutor() as executor:\n",
    "              executor.map(download_image,img_urls)\n",
    "t2=time.pref_counter()\n",
    "print(f'finished in {t2-t1} seconds')"
   ]
  },
  {
   "cell_type": "code",
   "execution_count": null,
   "id": "cc049368",
   "metadata": {},
   "outputs": [],
   "source": [
    "import time"
   ]
  },
  {
   "cell_type": "code",
   "execution_count": 27,
   "id": "22836de6",
   "metadata": {},
   "outputs": [
    {
     "name": "stdout",
     "output_type": "stream",
     "text": [
      "8068\n",
      "14376\n",
      "both process finished execuetion\n",
      "False\n",
      "False\n"
     ]
    }
   ],
   "source": [
    "import multiprocessing\n",
    "import os\n",
    "def worker1():\n",
    "    print(\"ID of process runningworkerq:{}\".format(os.getpid()))\n",
    "    \n",
    "    \n",
    "def worker2():\n",
    "    print(\"Id of process running worker:{}\".format(os.getpid()))\n",
    "    \n",
    "    \n",
    "if __name__==\"__main__\":\n",
    "    p1=multiprocessing.Process(target=worker1)\n",
    "    p2=multiprocessing.Process(target=worker2)\n",
    "    \n",
    "    p1.start()\n",
    "    p2.start()\n",
    "    print(p1.pid)\n",
    "    print(p2.pid)\n",
    "    \n",
    "    p1.join()\n",
    "    p2.join()\n",
    "    print(\"both process finished execuetion\")\n",
    "    \n",
    "    print(p1.is_alive())\n",
    "    print(p2.is_alive())"
   ]
  },
  {
   "cell_type": "code",
   "execution_count": 33,
   "id": "9974cc47",
   "metadata": {},
   "outputs": [
    {
     "name": "stdout",
     "output_type": "stream",
     "text": [
      "[0, 0, 0, 0]\n",
      "0\n"
     ]
    }
   ],
   "source": [
    "def square_list(my_list,result,square_sum):\n",
    "    for idx,num in enumerate(my_list):\n",
    "        result[idx]=num*num\n",
    "        \n",
    "    square_sum.value=sum(result)\n",
    "    \n",
    "    print(\"result(inprocess p1):{}\".format(result[:]))\n",
    "    print(\"sum of square(in process p1):{}\".format(square_sum.Value))\n",
    "    \n",
    "    \n",
    "    \n",
    "if __name__==\"__main__\":\n",
    "    my_list=[1,2,3,4]\n",
    "    result=multiprocessing.Array('i',4)\n",
    "    square_sum=multiprocessing.Value('i')\n",
    "    p1=multiprocessing.Process(target=square_list,args=(my_list,result,square_sum))\n",
    "    p1.start()\n",
    "    p1.join()\n",
    "    print(result[:])\n",
    "    print(square_sum.value)"
   ]
  },
  {
   "cell_type": "code",
   "execution_count": 35,
   "id": "b0f10434",
   "metadata": {},
   "outputs": [
    {
     "ename": "ImportError",
     "evalue": "cannot import name 'counter' from 'collections' (C:\\Users\\KOTNI KANAKA RAJU\\anaconda3\\lib\\collections\\__init__.py)",
     "output_type": "error",
     "traceback": [
      "\u001b[1;31m---------------------------------------------------------------------------\u001b[0m",
      "\u001b[1;31mImportError\u001b[0m                               Traceback (most recent call last)",
      "\u001b[1;32m~\\AppData\\Local\\Temp\\ipykernel_3164\\156175601.py\u001b[0m in \u001b[0;36m<module>\u001b[1;34m\u001b[0m\n\u001b[0;32m      1\u001b[0m \u001b[1;32mimport\u001b[0m \u001b[0mtime\u001b[0m\u001b[1;33m\u001b[0m\u001b[1;33m\u001b[0m\u001b[0m\n\u001b[1;32m----> 2\u001b[1;33m \u001b[1;32mfrom\u001b[0m \u001b[0mcollections\u001b[0m \u001b[1;32mimport\u001b[0m \u001b[0mcounter\u001b[0m\u001b[1;33m\u001b[0m\u001b[1;33m\u001b[0m\u001b[0m\n\u001b[0m\u001b[0;32m      3\u001b[0m \u001b[1;32mimport\u001b[0m \u001b[0mconcurrent\u001b[0m\u001b[1;33m.\u001b[0m\u001b[0mfutures\u001b[0m\u001b[1;33m\u001b[0m\u001b[1;33m\u001b[0m\u001b[0m\n\u001b[0;32m      4\u001b[0m \u001b[1;32mfrom\u001b[0m \u001b[0mPIL\u001b[0m \u001b[1;32mimport\u001b[0m \u001b[0mImage\u001b[0m\u001b[1;33m,\u001b[0m\u001b[0mImageFilter\u001b[0m\u001b[1;33m\u001b[0m\u001b[1;33m\u001b[0m\u001b[0m\n\u001b[0;32m      5\u001b[0m image_names=[\n",
      "\u001b[1;31mImportError\u001b[0m: cannot import name 'counter' from 'collections' (C:\\Users\\KOTNI KANAKA RAJU\\anaconda3\\lib\\collections\\__init__.py)"
     ]
    }
   ],
   "source": [
    "import time\n",
    "import concurrent.futures\n",
    "from PIL import Image,ImageFilter\n",
    "image_names=[\n",
    "    'photo-1516117172878-fd2c41f4a759.jpg',\n",
    "    'photo-1532009324734-20a7a5813719.jpg',\n",
    "    'photo-1524429656589-6633a470097c.jpg',\n",
    "    'photo-1530224264768-7ff8c1789d79.jpg',\n",
    "    'photo-1564135624576-c5c88640f235.jpg',\n",
    "    'photo-1541698444083-023c97d3f4b6.jpg',\n",
    "    'photo-1522364723953-452d3431c267.jpg',\n",
    "    'photo-1513938709626-033611b8cc03.jpg',\n",
    "    'photo-1507143550189-fed454f93097.jpg',\n",
    "    'photo-1493976040374-85c8e12f0c0e.jpg',\n",
    "    'photo-1504198453319-5ce911bafcde.jpg',\n",
    "    'photo-1530122037265-a5f1f91d3b99.jpg',\n",
    "    'photo-1516972810927-80185027ca84.jpg',\n",
    "    'photo-1550439062-609e1531270e.jpg',\n",
    "    'photo-1549692520-acc6669e2f0c.jpg'\n",
    "]\n",
    "t1=time.pref_counter()\n",
    "size=(1200,1200)\n",
    "def process_image(img_name):\n",
    "    img=Image.open(img_name)\n",
    "    img=img.filter(ImageFilter.GaussianBlur(15))\n",
    "    img.thumbnail(size)\n",
    "    img.save(f'processed/{img_name}')\n",
    "    print(f'{img_name} was processed')\n",
    "    \n",
    "with concurrent.futures.ProcessPoolExecutor() as executor:\n",
    "    executor.map(process_image,img_names)\n",
    "    \n",
    "t2=time.pref_counter()\n",
    "print(f'finished in {t2-t1} seconds')"
   ]
  },
  {
   "cell_type": "code",
   "execution_count": 37,
   "id": "0b807172",
   "metadata": {},
   "outputs": [],
   "source": [
    "import multiprocessing\n",
    "  \n",
    "def sender(conn, msgs):\n",
    "    \"\"\"\n",
    "    function to send messages to other end of pipe\n",
    "    \"\"\"\n",
    "    for msg in msgs:\n",
    "        conn.send(msg)\n",
    "        print(\"Sent the message: {}\".format(msg))\n",
    "    conn.close()\n",
    "  \n",
    "def receiver(conn):\n",
    "    \"\"\"\n",
    "    function to print the messages received from other\n",
    "    end of pipe\n",
    "    \"\"\"\n",
    "    while 1:\n",
    "        msg = conn.recv()\n",
    "        if msg == \"END\":\n",
    "            break\n",
    "        print(\"Received the message: {}\".format(msg))\n",
    "  \n",
    "if __name__ == \"__main__\":\n",
    "    # messages to be sent\n",
    "    msgs = [\"hello\", \"hey\", \"hru?\", \"END\"]\n",
    "  \n",
    "    # creating a pipe\n",
    "    parent_conn, child_conn = multiprocessing.Pipe()\n",
    "  \n",
    "    # creating new processes\n",
    "    p1 = multiprocessing.Process(target=sender, args=(parent_conn,msgs))\n",
    "    p2 = multiprocessing.Process(target=receiver, args=(child_conn,))\n",
    "  \n",
    "    # running processes\n",
    "    p1.start()\n",
    "    p2.start()\n",
    "  \n",
    "    # wait until processes finish\n",
    "    p1.join()\n",
    "    p2.join()"
   ]
  },
  {
   "cell_type": "code",
   "execution_count": 39,
   "id": "fcaf8edc",
   "metadata": {},
   "outputs": [],
   "source": [
    "import multiprocessing\n",
    "\n",
    "def withdraw(balence,lock):\n",
    "    for _ in range(10000):\n",
    "        lock.acquire()\n",
    "        balence.value=balence.value-1\n",
    "        lock.release()\n",
    "        \n",
    "def deposit(balence,lock):\n",
    "    for _ in range(10000):\n",
    "        lock.acquire()\n",
    "        balence.value=balence.value+1\n",
    "        lock.release()\n",
    "        \n",
    "def perform_transaction():\n",
    "    balence=multiprocessing.Value('i',100)\n",
    "    \n",
    "    lock=multiprocessing.Lock()\n",
    "    \n",
    "    p1=multiprocessing.Process(target=withdraw,args=(balence,lock))\n",
    "    p2=multiprocessing.Process(target=deposit,args=(balence,lock))\n",
    "    \n",
    "    p1.start()\n",
    "    p2.start()\n",
    "    p1.join()\n",
    "    p2.join()\n",
    "    \n",
    "if __name__==\"__main__\":\n",
    "    for _ in range(10):\n",
    "        perform_transaction()"
   ]
  },
  {
   "cell_type": "code",
   "execution_count": null,
   "id": "b543405e",
   "metadata": {},
   "outputs": [],
   "source": []
  }
 ],
 "metadata": {
  "kernelspec": {
   "display_name": "Python 3 (ipykernel)",
   "language": "python",
   "name": "python3"
  },
  "language_info": {
   "codemirror_mode": {
    "name": "ipython",
    "version": 3
   },
   "file_extension": ".py",
   "mimetype": "text/x-python",
   "name": "python",
   "nbconvert_exporter": "python",
   "pygments_lexer": "ipython3",
   "version": "3.9.13"
  }
 },
 "nbformat": 4,
 "nbformat_minor": 5
}
