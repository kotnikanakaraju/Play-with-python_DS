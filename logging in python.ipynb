{
 "cells": [
  {
   "cell_type": "code",
   "execution_count": 1,
   "id": "51561ddd",
   "metadata": {},
   "outputs": [],
   "source": [
    "import logging"
   ]
  },
  {
   "cell_type": "code",
   "execution_count": 9,
   "id": "141648f3",
   "metadata": {},
   "outputs": [
    {
     "name": "stdout",
     "output_type": "stream",
     "text": [
      "Invalid name\n"
     ]
    }
   ],
   "source": [
    "logging.basicConfig(filename='demo.log',level=logging.ERROR)\n",
    "# logging.disable()\n",
    "def nameCheck(name):\n",
    "    if len(name)<2:\n",
    "        logging.debug('This is a DEBUG message')\n",
    "        return 'Invalid name'\n",
    "    elif name.isspace():\n",
    "        logging.debug(\"checking if name is spances\")\n",
    "        return 'Invalid name'\n",
    "    elif name.isalpha():\n",
    "        logging.debug('checking if name is alaphabet')\n",
    "        return 'Invalid name'\n",
    "    elif name.replace('','').isalpha():\n",
    "        logging.debug('cheking for full name..')\n",
    "        return ' name is valid'\n",
    "    else:\n",
    "        logging.debug('falied all checks')\n",
    "        return 'Invalid name'\n",
    "print(nameCheck('Alexander123'))"
   ]
  },
  {
   "cell_type": "code",
   "execution_count": 8,
   "id": "89f72d8f",
   "metadata": {},
   "outputs": [],
   "source": [
    "logging.debug('this is a debug message')\n",
    "logging.info('this is info message')\n",
    "logging.warning('this is awarning message')\n",
    "logging.error('this is error message')\n",
    "logging.critical('this is acritaical meessae')"
   ]
  },
  {
   "cell_type": "code",
   "execution_count": 10,
   "id": "4e79cf64",
   "metadata": {},
   "outputs": [],
   "source": [
    "def savedata(name,age,email):\n",
    "    logging.debug(f'saving details of{name}..')\n",
    "    with open('data.txt','a')as appendFile:\n",
    "        appendFile.write(f'name:{Name}-Age:{age}-Email:{email}\\n')\n",
    "        logging.info(f'details saved susccesfully')\n",
    "        print(f'details saved successfully')\n",
    "logging.info('End of savetofile program')\n"
   ]
  },
  {
   "cell_type": "code",
   "execution_count": 11,
   "id": "5bc99a6a",
   "metadata": {},
   "outputs": [
    {
     "ename": "ModuleNotFoundError",
     "evalue": "No module named 'savetoFile'",
     "output_type": "error",
     "traceback": [
      "\u001b[1;31m---------------------------------------------------------------------------\u001b[0m",
      "\u001b[1;31mModuleNotFoundError\u001b[0m                       Traceback (most recent call last)",
      "\u001b[1;32m~\\AppData\\Local\\Temp\\ipykernel_13224\\156942307.py\u001b[0m in \u001b[0;36m<module>\u001b[1;34m\u001b[0m\n\u001b[0;32m      1\u001b[0m \u001b[1;32mimport\u001b[0m \u001b[0mlogging\u001b[0m\u001b[1;33m\u001b[0m\u001b[1;33m\u001b[0m\u001b[0m\n\u001b[1;32m----> 2\u001b[1;33m \u001b[1;32mimport\u001b[0m \u001b[0msavetoFile\u001b[0m \u001b[1;32mas\u001b[0m \u001b[0mSTF\u001b[0m\u001b[1;33m\u001b[0m\u001b[1;33m\u001b[0m\u001b[0m\n\u001b[0m\u001b[0;32m      3\u001b[0m \u001b[1;33m\u001b[0m\u001b[0m\n\u001b[0;32m      4\u001b[0m logging.basicConfig(filename='emloyee.log',level=logging.DEBUG,\n\u001b[0;32m      5\u001b[0m                    format='%(levelname)')\n",
      "\u001b[1;31mModuleNotFoundError\u001b[0m: No module named 'savetoFile'"
     ]
    }
   ],
   "source": [
    "import logging\n",
    "import savetoFile as STF\n",
    "\n",
    "logging.basicConfig(filename='emloyee.log',level=logging.DEBUG,\n",
    "                   format='%(levelname:name)')\n",
    "\n",
    "logging.debug('start of employee program')\n",
    "\n",
    "name=\"kanaka\"\n",
    "age=21\n",
    "email='kanakarajukotni@gmail.com'\n",
    "\n",
    "if STF.nameCheck(name) is True:\n",
    "    STF.savedata(name,age,email)\n",
    "else:\n",
    "    logging.critical('employee check failed')\n",
    "logging.debug('end of employee program.')"
   ]
  },
  {
   "cell_type": "code",
   "execution_count": null,
   "id": "5637d5f5",
   "metadata": {},
   "outputs": [],
   "source": [
    "logger=logging.getLogger(__name__)\n",
    "logger.setLevel(logging.DEBUG)\n",
    "# logging.basicConfig(filename='saveToFile.log',level=logging.DEBUG,format='%(asctime)s-%(levelname)s-%(name)s-%(message)s')\n",
    "logging.info('start of savetofile progeame')\n",
    "\n",
    "f=logging.formatter('%(asctime)s-%(levelname)s-%(name)s-%(message)s')\n",
    "fh=logging.fileHandler('savetoFile.log')\n",
    "fh.setformatter(f)\n",
    "logger.addHandler(fh)\n",
    "def nameCheck(name):\n",
    "    logging.debug(f'data.txt'):\n",
    "        if os.path.exists('data.txt'):\n",
    "            with open('data.txt','r') as readFile:\n",
    "                for line in readFile:\n",
    "                    if line.lower().startswith(f'name:{name.lower()}'):\n",
    "                        logging.error(f'Name:\"{name}\" already existed')\n",
    "                        return False\n",
    "                if len(name)==0:\n",
    "                    \n",
    "            \n",
    "                                               "
   ]
  }
 ],
 "metadata": {
  "kernelspec": {
   "display_name": "Python 3 (ipykernel)",
   "language": "python",
   "name": "python3"
  },
  "language_info": {
   "codemirror_mode": {
    "name": "ipython",
    "version": 3
   },
   "file_extension": ".py",
   "mimetype": "text/x-python",
   "name": "python",
   "nbconvert_exporter": "python",
   "pygments_lexer": "ipython3",
   "version": "3.9.13"
  }
 },
 "nbformat": 4,
 "nbformat_minor": 5
}
