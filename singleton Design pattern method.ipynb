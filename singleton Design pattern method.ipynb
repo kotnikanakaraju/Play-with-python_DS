{
 "cells": [
  {
   "cell_type": "code",
   "execution_count": 1,
   "id": "3d0aa4b5",
   "metadata": {},
   "outputs": [
    {
     "name": "stdout",
     "output_type": "stream",
     "text": [
      "True\n"
     ]
    }
   ],
   "source": [
    "# 1.Singleton design pattern :\n",
    "class Singleton:\n",
    "    _instance=None\n",
    "    \n",
    "    def __new__(cls):\n",
    "        if cls._instance is None:\n",
    "            cls._instance=super(Singleton,cls).__new__(cls)\n",
    "        return cls._instance\n",
    "obj1=Singleton()\n",
    "obj2=Singleton()\n",
    "print(obj1 is obj2)"
   ]
  },
  {
   "cell_type": "code",
   "execution_count": 5,
   "id": "c83632da",
   "metadata": {},
   "outputs": [
    {
     "name": "stdout",
     "output_type": "stream",
     "text": [
      "False\n"
     ]
    }
   ],
   "source": [
    "class Singleton:\n",
    "    _instance_name=\"kanaka\"\n",
    "    \n",
    "    def __new__(cls):\n",
    "        if cls._instance_name is not None:\n",
    "            cls._instance_name=super(Singleton,cls).__new__(cls)\n",
    "        return cls._instance_name\n",
    "obj1=Singleton()\n",
    "obj2=Singleton()\n",
    "print(obj1 is obj2)"
   ]
  },
  {
   "cell_type": "code",
   "execution_count": 19,
   "id": "ff170bc8",
   "metadata": {},
   "outputs": [
    {
     "ename": "KeyError",
     "evalue": "'Home'",
     "output_type": "error",
     "traceback": [
      "\u001b[1;31m---------------------------------------------------------------------------\u001b[0m",
      "\u001b[1;31mKeyError\u001b[0m                                  Traceback (most recent call last)",
      "\u001b[1;32m~\\AppData\\Local\\Temp\\ipykernel_1244\\3738285932.py\u001b[0m in \u001b[0;36m<module>\u001b[1;34m\u001b[0m\n\u001b[0;32m     14\u001b[0m \u001b[1;33m\u001b[0m\u001b[0m\n\u001b[0;32m     15\u001b[0m \u001b[1;33m\u001b[0m\u001b[0m\n\u001b[1;32m---> 16\u001b[1;33m \u001b[0mlove\u001b[0m\u001b[1;33m=\u001b[0m\u001b[0mhappy\u001b[0m\u001b[1;33m(\u001b[0m\u001b[1;34m\"Home\"\u001b[0m\u001b[1;33m)\u001b[0m\u001b[1;33m\u001b[0m\u001b[1;33m\u001b[0m\u001b[0m\n\u001b[0m\u001b[0;32m     17\u001b[0m \u001b[0mprint\u001b[0m\u001b[1;33m(\u001b[0m\u001b[0mlove\u001b[0m\u001b[1;33m.\u001b[0m\u001b[0mmonitor\u001b[0m\u001b[1;33m(\u001b[0m\u001b[1;33m)\u001b[0m\u001b[1;33m)\u001b[0m\u001b[1;33m\u001b[0m\u001b[1;33m\u001b[0m\u001b[0m\n",
      "\u001b[1;32m~\\AppData\\Local\\Temp\\ipykernel_1244\\3738285932.py\u001b[0m in \u001b[0;36mhappy\u001b[1;34m(love)\u001b[0m\n\u001b[0;32m     11\u001b[0m \u001b[1;32mdef\u001b[0m \u001b[0mhappy\u001b[0m\u001b[1;33m(\u001b[0m\u001b[0mlove\u001b[0m\u001b[1;33m=\u001b[0m\u001b[1;34m\"Home\"\u001b[0m\u001b[1;33m)\u001b[0m\u001b[1;33m:\u001b[0m\u001b[1;33m\u001b[0m\u001b[1;33m\u001b[0m\u001b[0m\n\u001b[0;32m     12\u001b[0m     \u001b[0mraju\u001b[0m\u001b[1;33m=\u001b[0m\u001b[0mdict\u001b[0m\u001b[1;33m(\u001b[0m\u001b[0mschool\u001b[0m\u001b[1;33m=\u001b[0m\u001b[0mSchool\u001b[0m\u001b[1;33m(\u001b[0m\u001b[1;33m)\u001b[0m\u001b[1;33m,\u001b[0m\u001b[0mhome\u001b[0m\u001b[1;33m=\u001b[0m\u001b[0mHome\u001b[0m\u001b[1;33m(\u001b[0m\u001b[1;33m)\u001b[0m\u001b[1;33m)\u001b[0m\u001b[1;33m\u001b[0m\u001b[1;33m\u001b[0m\u001b[0m\n\u001b[1;32m---> 13\u001b[1;33m     \u001b[1;32mreturn\u001b[0m \u001b[0mraju\u001b[0m\u001b[1;33m[\u001b[0m\u001b[0mlove\u001b[0m\u001b[1;33m]\u001b[0m\u001b[1;33m\u001b[0m\u001b[1;33m\u001b[0m\u001b[0m\n\u001b[0m\u001b[0;32m     14\u001b[0m \u001b[1;33m\u001b[0m\u001b[0m\n\u001b[0;32m     15\u001b[0m \u001b[1;33m\u001b[0m\u001b[0m\n",
      "\u001b[1;31mKeyError\u001b[0m: 'Home'"
     ]
    }
   ],
   "source": [
    "# 2.Factory pattern\n",
    "\n",
    "class School:\n",
    "    def monitor(self):\n",
    "        return \"very polite with love and freedom\"\n",
    "    \n",
    "class Home:\n",
    "    def monitor(self):\n",
    "        return \"very happy with love and secure\"\n",
    "    \n",
    "def happy(love=\"Home\"):\n",
    "    raju=dict(school=School(),home=Home())\n",
    "    return raju[love]\n",
    "\n",
    "\n",
    "love=happy(\"Home\")\n",
    "print(love.monitor())"
   ]
  },
  {
   "cell_type": "code",
   "execution_count": 5,
   "id": "635933a3",
   "metadata": {},
   "outputs": [
    {
     "name": "stdout",
     "output_type": "stream",
     "text": [
      "subject changed\n"
     ]
    }
   ],
   "source": [
    "# Observer Pattern:\n",
    "# The Observer pattern defines a one-to-many dependency between\n",
    "# objects so that when one object changes state, \n",
    "# all its dependents are notified.\n",
    "class Subject:\n",
    "    def __init__(self):\n",
    "        self._observers=[]\n",
    "        \n",
    "    def attach(self,observer):\n",
    "        self._observers.append(observer)\n",
    "    \n",
    "    def detach(self,observer):\n",
    "        self._observers.remove(observer)\n",
    "        \n",
    "    def notify(self):\n",
    "        for observer in self._observers:\n",
    "            observer.update()\n",
    "            \n",
    "class Observer:\n",
    "    def update(self):\n",
    "        print(\"subject changed\")\n",
    "        \n",
    "subject=Subject()\n",
    "observer=Observer()\n",
    "subject.attach(observer)\n",
    "subject.notify()"
   ]
  },
  {
   "cell_type": "code",
   "execution_count": 8,
   "id": "2ba90609",
   "metadata": {},
   "outputs": [
    {
     "name": "stdout",
     "output_type": "stream",
     "text": [
      "paid $100with credit card\n",
      "paid $50 with paypal\n"
     ]
    }
   ],
   "source": [
    "# Strategy Pattern\n",
    "class PaymentStrategy:\n",
    "    def pay(self,amount):\n",
    "        pass\n",
    "    \n",
    "class CreditCardPayment(PaymentStrategy):\n",
    "    def pay(self,amount):\n",
    "        print(f\"paid ${amount}with credit card\")\n",
    "        \n",
    "class PaypalPayment(PaymentStrategy):\n",
    "    def pay(self,amount):\n",
    "        print(f\"paid ${amount} with paypal\")\n",
    "        \n",
    "class ShoppingCart:\n",
    "    def __init__(self,payment_strategy):\n",
    "        self._payment_strategy=payment_strategy\n",
    "        \n",
    "    def checkout(self,amount):\n",
    "        self._payment_strategy.pay(amount)\n",
    "        \n",
    "cart1=ShoppingCart(CreditCardPayment())\n",
    "cart1.checkout(100)\n",
    "\n",
    "cart2=ShoppingCart(PaypalPayment())\n",
    "cart2.checkout(50)"
   ]
  },
  {
   "cell_type": "code",
   "execution_count": 11,
   "id": "3332c98d",
   "metadata": {},
   "outputs": [
    {
     "name": "stdout",
     "output_type": "stream",
     "text": [
      "this was $romantic\n",
      "this was $masala\n"
     ]
    }
   ],
   "source": [
    "class sun:\n",
    "    def hot(self,good):\n",
    "        pass\n",
    "    \n",
    "class moon(sun):\n",
    "    def hot(self,life):\n",
    "        print(f\"this was ${life}\")\n",
    "        \n",
    "class jupitar(sun):\n",
    "    def hot(self,life):\n",
    "        print(f\"this was ${life}\")\n",
    "        \n",
    "class kotni:\n",
    "    def __init__(self,mango):\n",
    "        self._mango=mango\n",
    "        \n",
    "    def looks(self,life):\n",
    "        self._mango.hot(life)\n",
    "        \n",
    "lilly=kotni(moon())\n",
    "lilly.looks(\"romantic\")\n",
    "\n",
    "milkey=kotni(jupitar())\n",
    "milkey.looks(\"masala\")"
   ]
  },
  {
   "cell_type": "code",
   "execution_count": null,
   "id": "e4715a79",
   "metadata": {},
   "outputs": [],
   "source": []
  }
 ],
 "metadata": {
  "kernelspec": {
   "display_name": "Python 3 (ipykernel)",
   "language": "python",
   "name": "python3"
  },
  "language_info": {
   "codemirror_mode": {
    "name": "ipython",
    "version": 3
   },
   "file_extension": ".py",
   "mimetype": "text/x-python",
   "name": "python",
   "nbconvert_exporter": "python",
   "pygments_lexer": "ipython3",
   "version": "3.9.13"
  }
 },
 "nbformat": 4,
 "nbformat_minor": 5
}
