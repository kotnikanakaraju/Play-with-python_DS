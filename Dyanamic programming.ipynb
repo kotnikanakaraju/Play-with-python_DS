{
 "cells": [
  {
   "cell_type": "code",
   "execution_count": 1,
   "id": "899c1e0c",
   "metadata": {},
   "outputs": [
    {
     "name": "stdout",
     "output_type": "stream",
     "text": [
      "2\n"
     ]
    }
   ],
   "source": [
    "#longest common subsequence\n",
    "\n",
    "def lcs(X,Y):\n",
    "    T=[[0 for i in range(10)] for j in range(10)]\n",
    "    for i in range(len(X)):\n",
    "        for j in range(len(Y)):\n",
    "            if X[i]==Y[j]:\n",
    "                T[i][j]=1+T[i-1][j-1]\n",
    "            else:\n",
    "                T[i][j]=max(T[i-1][j],T[i][j-1])\n",
    "    return T[i][j]\n",
    "\n",
    "X='eg'\n",
    "Y='defg'\n",
    "print(lcs(X,Y))"
   ]
  },
  {
   "cell_type": "code",
   "execution_count": 2,
   "id": "b0b76e44",
   "metadata": {},
   "outputs": [
    {
     "name": "stdout",
     "output_type": "stream",
     "text": [
      "8\n"
     ]
    }
   ],
   "source": [
    "\n",
    "# stair case problem\n",
    "def climb_stairs(n):\n",
    "    step=(n+1)*[0]\n",
    "    if n==1 or n==2:\n",
    "        return n\n",
    "    step[1]=1\n",
    "    step[2]=2\n",
    "    for i in range(3,n+1):\n",
    "        step[i]=step[i-1]+step[i-2]\n",
    "    return step[n]\n",
    "print(climb_stairs(5))"
   ]
  },
  {
   "cell_type": "code",
   "execution_count": 4,
   "id": "24781b8d",
   "metadata": {},
   "outputs": [
    {
     "name": "stdout",
     "output_type": "stream",
     "text": [
      "3\n"
     ]
    }
   ],
   "source": [
    "# def editDistance(str1,str2):\n",
    "#     m=len(str1)\n",
    "#     n=len(str2)\n",
    "    \n",
    "#     if str1[m-1]==str2[n-1]:\n",
    "#         return editDistance(str1,str2,m-1,n-1)\n",
    "    \n",
    "#     return 1+min(editDistance(str1,str2,m,m-2),\n",
    "#                 editDistance(str1,str2,m-1,n),\n",
    "#                 editDistance(str1,str2,m-1,n-1))\n",
    "# str1=\"DATA\"\n",
    "# str2=\"DENT\"\n",
    "# editDistance(str1,str2)\n",
    "def min_edit_distance(str1,str2):\n",
    "    m=len(str1)\n",
    "    n=len(str2)\n",
    "    dp=[[0 for x in range(m+1)] for j in range(n+1)]\n",
    "    for i in range(m+1):\n",
    "        for j in range(n+1):\n",
    "            if i==0:\n",
    "                dp[i][j]=j\n",
    "            elif(j==0):\n",
    "                dp[i][j]=i\n",
    "            elif str1[i-1]==str2[j-1]:\n",
    "                dp[i][j]=dp[i-1][j-1]\n",
    "            else:\n",
    "                dp[i][j]=1+min(dp[i-1][j],dp[i][j-1],dp[i-1][j-1])\n",
    "    return dp[i][j]\n",
    "\n",
    "str1='dent'\n",
    "str2='data'\n",
    "print(min_edit_distance(str1,str2))\n"
   ]
  },
  {
   "cell_type": "code",
   "execution_count": 5,
   "id": "e3776803",
   "metadata": {},
   "outputs": [],
   "source": [
    "def wordbreak(word,dict):\n",
    "    m=len(word)\n",
    "    T=[[False for x in range(m)] for y in range(m)]\n",
    "    for l in range(1,m+1):\n",
    "        for i in range(0,m-l+1):\n",
    "            j=i+l-1\n",
    "            str=word[i:j+1]\n",
    "            if str in dict:\n",
    "                T[i][j]=True\n",
    "                continue\n",
    "            for k in range(i+1,j+1):\n",
    "                if T[i][k-1]!=False and T[k][j]!=False:\n",
    "                    T[i][j]=True\n",
    "                    break\n",
    "                    \n",
    "    if T[0][m-1]==False:\n",
    "        return False\n",
    "    else:\n",
    "        return True"
   ]
  },
  {
   "cell_type": "code",
   "execution_count": 1,
   "id": "7bd8ce13",
   "metadata": {},
   "outputs": [],
   "source": [
    "# minimum jumps problem\n",
    "def minjumps(arr,start,end):\n",
    "    if start==end:\n",
    "        return 0\n",
    "    if(arr[start]==0):\n",
    "        return float('inf')\n",
    "    min=float('inf')\n",
    "    for i in range(start+1,end+1):\n",
    "        if i<=start+arr[start]:\n",
    "            jumps=minjumps(arr,i,end)\n",
    "            if (jumps+1<min):\n",
    "                min=jumps+1\n",
    "    return min"
   ]
  },
  {
   "cell_type": "code",
   "execution_count": 3,
   "id": "540c24cd",
   "metadata": {},
   "outputs": [
    {
     "name": "stdout",
     "output_type": "stream",
     "text": [
      "2\n"
     ]
    }
   ],
   "source": [
    "def minjumps(arr):\n",
    "    if arr[0]==0:\n",
    "        return float('inf')\n",
    "    \n",
    "    end=len(arr)\n",
    "    \n",
    "    dp=[0 for i in range(end)]\n",
    "    \n",
    "    for i in range(1,end):\n",
    "        dp[i]=float('inf')\n",
    "        for j in range(0,i):\n",
    "            if i<=j+arr[j]:\n",
    "                dp[i]=min(dp[i],dp[j]+1)\n",
    "    return dp[-1]\n",
    "\n",
    "arr=[2,3,1,1,4]\n",
    "print(minjumps(arr))"
   ]
  },
  {
   "cell_type": "code",
   "execution_count": 12,
   "id": "0cfa3554",
   "metadata": {},
   "outputs": [
    {
     "name": "stdout",
     "output_type": "stream",
     "text": [
      "15\n"
     ]
    }
   ],
   "source": [
    "# minimum cost path\n",
    "# using recursion\n",
    "import sys\n",
    "def min_cost_path(cost,m,n):\n",
    "    if m<0 or n<0:\n",
    "        return sys.maxsize\n",
    "    elif m==0 & n==0:\n",
    "        return cost[m][n]\n",
    "    else:\n",
    "        return cost[m][n]+min(min_cost_path(cost,m-1,n-1),\n",
    "                             min_cost_path(cost,m-1,n),\n",
    "                             min_cost_path(cost,m,n-1))\n",
    "    \n",
    "cost=[[1,2,3],[4,5,6],[7,8,9]]\n",
    "m=2\n",
    "n=2\n",
    "\n",
    "print(min_cost_path(cost,m,n))"
   ]
  },
  {
   "cell_type": "code",
   "execution_count": 17,
   "id": "97c0feee",
   "metadata": {},
   "outputs": [
    {
     "name": "stdout",
     "output_type": "stream",
     "text": [
      "15\n"
     ]
    }
   ],
   "source": [
    "def min_cost_dp(cost,m,n):\n",
    "    dp=[[0 for i in range(m+1)]for j in range(n+1)]\n",
    "    dp[0][0]=cost[0][0]\n",
    "    \n",
    "    for i in range(1,m+1):\n",
    "        dp[i][0]=dp[i-1][0]+cost[i][0]\n",
    "    for j in range(1,n+1):\n",
    "        dp[0][j]=dp[0][j-1]+cost[0][j]\n",
    "        \n",
    "    for i in range(1,m+1):\n",
    "        for j in range(n+1):\n",
    "            dp[i][j]=cost[i][j]+min(dp[i-1][j-1],\n",
    "                                   dp[i-1][j],\n",
    "                                   dp[i][j-1])\n",
    "    return dp[m][n]\n",
    "\n",
    "cost=[[1,2,3],[4,5,6],[7,8,9]]\n",
    "m=2\n",
    "n=2\n",
    "\n",
    "print(min_cost_dp(cost,m,n))"
   ]
  },
  {
   "cell_type": "code",
   "execution_count": 1,
   "id": "72918f60",
   "metadata": {},
   "outputs": [
    {
     "name": "stdout",
     "output_type": "stream",
     "text": [
      "False\n"
     ]
    }
   ],
   "source": [
    "#Recursion \n",
    "# subset problem\n",
    "def subset_sum(arr,sum,res):\n",
    "    if sum==0:\n",
    "        return True\n",
    "    if sum<0:\n",
    "        return False\n",
    "    if len(arr)==0 and sum!=0:\n",
    "        return False\n",
    "    \n",
    "    arr.pop(0)\n",
    "    if len(arr)>0:\n",
    "        res.append(arr[0])\n",
    "        select=subset_sum(arr,sum-arr[0],res)\n",
    "        reject=subset_sum(arr,sum,res)\n",
    "        return select or reject\n",
    "    \n",
    "arr=[3,4,5,2]\n",
    "sum=14\n",
    "res=[]\n",
    "print(subset_sum(arr,sum,res))"
   ]
  },
  {
   "cell_type": "code",
   "execution_count": 8,
   "id": "63937892",
   "metadata": {},
   "outputs": [
    {
     "name": "stdout",
     "output_type": "stream",
     "text": [
      "False\n"
     ]
    }
   ],
   "source": [
    "# subset problem using dynamic programming\n",
    "def issubset(set,n,sum):\n",
    "    subset=[[False for i in range(sum+1)]for i in range(n+1)]\n",
    "    \n",
    "    for i in range(n+1):\n",
    "        subset[i][0]=True\n",
    "    for j in range(sum+1):\n",
    "        subset[0][j]=False\n",
    "        \n",
    "    for i in range(n+1):\n",
    "        for j in range(sum+1):\n",
    "            if j<set[i-1]:\n",
    "                subset[i][j]=subset[i-1][j]\n",
    "            if j>=set[i-1]:\n",
    "                subset[i][j]=subset[i-1][j] or subset[i-1][j-set[i-1]]\n",
    "    return subset[n][sum]\n",
    "\n",
    "set=[2,3,4,5]\n",
    "sum=20\n",
    "n=len(set)\n",
    "if issubset(set,n,sum):\n",
    "    print(\"True\")\n",
    "else:\n",
    "    print(\"False\")"
   ]
  },
  {
   "cell_type": "code",
   "execution_count": 3,
   "id": "99b13498",
   "metadata": {},
   "outputs": [
    {
     "name": "stdout",
     "output_type": "stream",
     "text": [
      "2\n"
     ]
    }
   ],
   "source": [
    "#morrie voting algorithm\n",
    "\n",
    "def majority_ele(A):\n",
    "    curr_majority=A[0]\n",
    "    count=1\n",
    "    size=len(A)\n",
    "    for index in range(1,size):\n",
    "        if curr_majority==A[index]:\n",
    "            count+=1\n",
    "        else:\n",
    "            count-=1\n",
    "        if count==0:\n",
    "            curr_majority=A[index]\n",
    "            count=1\n",
    "    for i in range(size):\n",
    "        if curr_majority==A[index]:\n",
    "            count=count+1\n",
    "        if count>size/2:\n",
    "            return curr_majority\n",
    "        \n",
    "A=[2,1,2,3,2]\n",
    "print(majority_ele(A))"
   ]
  },
  {
   "cell_type": "code",
   "execution_count": 6,
   "id": "ab102e2a",
   "metadata": {},
   "outputs": [
    {
     "name": "stdout",
     "output_type": "stream",
     "text": [
      "5\n"
     ]
    }
   ],
   "source": [
    "# Decoding ways in recursion approach\n",
    "\n",
    "A=\"1112\"\n",
    "arr=[0 for i in range(len(A)+1)]\n",
    "def numDecoding(A,index,arr):\n",
    "    #when character is emptpy\n",
    "    if index==len(A):\n",
    "        return 1\n",
    "    #when only character is 0\n",
    "    if A[index]==0:\n",
    "        return 0\n",
    "    #when  single character\n",
    "    if index==len(A)-1:\n",
    "        return 1\n",
    "    \n",
    "    if arr[index]>0:\n",
    "        return arr[index]\n",
    "    \n",
    "    way1=numDecoding(A,index+1,arr)\n",
    "    way2=0\n",
    "    if int(A[index:index+2])<=26:\n",
    "        way2=numDecoding(A,index+2,arr)\n",
    "    arr[index]=way1+way2\n",
    "    return arr[index]\n",
    "print(numDecoding(A,index,arr))\n",
    "        "
   ]
  },
  {
   "cell_type": "code",
   "execution_count": 7,
   "id": "914abfce",
   "metadata": {},
   "outputs": [
    {
     "name": "stdout",
     "output_type": "stream",
     "text": [
      "None\n"
     ]
    }
   ],
   "source": [
    "def numDecoding(A):\n",
    "    if len(A)==0:\n",
    "        return 0\n",
    "    if int(A[0])==0:\n",
    "        return 0\n",
    "    n=len(A)\n",
    "    result=[0 for i in range(0,n+1)]\n",
    "    result[0]=result[1]=1\n",
    "    for i in range(1,n):\n",
    "        v1=int(A[i:i+1])\n",
    "        v2=int(A[i-1:i+1])\n",
    "        if 0<v1<=9:\n",
    "            result[i+1]=result[i]\n",
    "        if 10<=v2<=26:\n",
    "            result[i+1]=result[i-1]+result[i+1]\n",
    "        if result[i+1]==0:\n",
    "            return 0\n",
    "A=\"1113\"\n",
    "print(numDecoding(A))"
   ]
  },
  {
   "cell_type": "code",
   "execution_count": 1,
   "id": "9faec156",
   "metadata": {},
   "outputs": [],
   "source": [
    "def distribute_candies(A):\n",
    "    candy_left=[1]*len(A)\n",
    "    candy_right=[1]*len(A)\n",
    "    \n",
    "    for left in range(len(A)):\n",
    "        if left>0:\n",
    "            if A[left]>A[left-1]:\n",
    "                candy_left[left]=candy_left[left-1]+1\n",
    "    for right in range(len(A)-1,-1,-1):\n",
    "        if right<len(A)-1:\n",
    "            if A[right]>A[right+1]:\n",
    "                candy_right[right]=candy_right[right+1]+1\n",
    "                \n",
    "    for k in range(len(A)):\n",
    "        candy_right[k]=max(candy_left[k],candy_left[k])\n",
    "        \n",
    "    return sum(candy_right) \n",
    "        "
   ]
  },
  {
   "cell_type": "code",
   "execution_count": 3,
   "id": "acd46be9",
   "metadata": {},
   "outputs": [
    {
     "name": "stdout",
     "output_type": "stream",
     "text": [
      "False\n"
     ]
    }
   ],
   "source": [
    "def ismatch(text,pattern):\n",
    "    m,n=len(text),len(pattern)\n",
    "    \n",
    "    dp=[[False for _ in range(n+1)]for _ in range(m+1)]\n",
    "    dp[0][0]=True\n",
    "    for i in range(1,n+1):\n",
    "        if pattern[i-1]==\"*\":\n",
    "            dp[0][i]=dp[0][i-2]\n",
    "    for i in range(1,n+1):\n",
    "        for j in range(1,m+1):\n",
    "            if text[i-1]==pattern[j-1] or pattern[j-1]=='.':\n",
    "                dp[i][j]=dp[i-1][j-1]\n",
    "            elif pattern[j-1]==\"*\":\n",
    "                dp[i][j]=dp[i][j-2]\n",
    "                if text[i-1]==pattern[j-2] or pattern[j-2]==\".\":\n",
    "                    dp[i][j]=dp[i-1][j]\n",
    "            else:\n",
    "                dp[i][j]=False\n",
    "    return dp[m][n]\n",
    "    \n",
    "A='yccfdv'\n",
    "B='yc*f.g'\n",
    "print(ismatch(A, B))"
   ]
  },
  {
   "cell_type": "code",
   "execution_count": 6,
   "id": "816af855",
   "metadata": {},
   "outputs": [
    {
     "data": {
      "text/plain": [
       "False"
      ]
     },
     "execution_count": 6,
     "metadata": {},
     "output_type": "execute_result"
    }
   ],
   "source": [
    "def ugly(num):\n",
    "    factor=[2,3,5]\n",
    "    for f in factor:\n",
    "        while num%f==0:\n",
    "            num=num/f\n",
    "    if num==1:\n",
    "        return True\n",
    "    else:\n",
    "        return False\n",
    "ugly(14)"
   ]
  },
  {
   "cell_type": "code",
   "execution_count": 8,
   "id": "20c29d8b",
   "metadata": {},
   "outputs": [
    {
     "name": "stdout",
     "output_type": "stream",
     "text": [
      "10\n"
     ]
    }
   ],
   "source": [
    "# Nth ugly numbers using dynamic programming\n",
    "def nthuglynumber(n):\n",
    "    res=[1]\n",
    "    i2,i3,i5=0,0,0\n",
    "    for i in range(n-1):\n",
    "        next2=res[i2]*2\n",
    "        next3=res[i3]*3\n",
    "        next5=res[i5]*5\n",
    "        next=min(next2,next3,next5)\n",
    "        res.append(next)\n",
    "        if next==next2:\n",
    "            i2+=1\n",
    "        if next==next3:\n",
    "            i3+=1\n",
    "        if next==next5:\n",
    "            i5+=1\n",
    "    return res[-1]\n",
    "print(nthuglynumber(9))"
   ]
  },
  {
   "cell_type": "code",
   "execution_count": 10,
   "id": "5e16b018",
   "metadata": {},
   "outputs": [],
   "source": [
    "def nthSuperUglyNumber(n,primes):\n",
    "    res=[1]\n",
    "    ix=[0]*len(primes)\n",
    "    for i in range(n-1):\n",
    "        next=10000\n",
    "        min_j=[]\n",
    "        for j,inex in enumerate(ix):\n",
    "            nextj=res[inex]*primes[i]\n",
    "            if nextj<next:\n",
    "                next=nextj\n",
    "                min_j=[j]\n",
    "            elif nextj==next:\n",
    "                min_j.append(j)\n",
    "        res.append(next)\n",
    "        for j in min_j:\n",
    "            ix[j]=ix[j]+1\n",
    "    return res[-1]"
   ]
  },
  {
   "cell_type": "code",
   "execution_count": 1,
   "id": "b36096ad",
   "metadata": {},
   "outputs": [],
   "source": [
    "def longestvalidparenthesis(A):\n",
    "    dp=[0 for x in A]\n",
    "    for i in range(len(A)):\n",
    "        if A[i]=='(':\n",
    "            pass\n",
    "        if A[i]==')':\n",
    "            if i-1<0:\n",
    "                continue\n",
    "            if A[i-1]=='(':\n",
    "                dp[i]=dp[i-2]+2\n",
    "                continue\n",
    "            if i-dp[i-1]-1<0:\n",
    "                continue\n",
    "            if A[i-dp[i-1]-1]=='(':\n",
    "                dp[i]=dp[i-1]+2+dp[i-dp[i-1]-2]\n",
    "    if len(dp)==0:\n",
    "        return 0\n",
    "    return max(dp)"
   ]
  },
  {
   "cell_type": "code",
   "execution_count": 2,
   "id": "e45dd857",
   "metadata": {},
   "outputs": [],
   "source": [
    "#counting Bits\n",
    "def solution(object):\n",
    "    def countBits(self,num):\n",
    "        result=[0 for i in range(num+1)]\n",
    "        for i in range(0,num+1):\n",
    "            result[i]=self.rec(i)\n",
    "        return result\n",
    "    \n",
    "    def rec(self,num):\n",
    "        if num==0:\n",
    "            return 0\n",
    "        if num%2==0:\n",
    "            return self.rec(num//2)\n",
    "        if num%2==1:\n",
    "            return 1+self.rec(num//2)"
   ]
  },
  {
   "cell_type": "code",
   "execution_count": 4,
   "id": "bec110ba",
   "metadata": {},
   "outputs": [
    {
     "name": "stdout",
     "output_type": "stream",
     "text": [
      "[0, 1, 1, 2, 1, 2]\n"
     ]
    }
   ],
   "source": [
    "def count_setbits(n):\n",
    "    m=[0 for x in range(n+1)]\n",
    "    m[0]=0\n",
    "    for i in range(1,n+1):\n",
    "        m[i]=m[int(i/2)]+i%2\n",
    "    return m\n",
    "print(count_setbits(5))"
   ]
  },
  {
   "cell_type": "code",
   "execution_count": 6,
   "id": "805c05a7",
   "metadata": {},
   "outputs": [
    {
     "name": "stdout",
     "output_type": "stream",
     "text": [
      "1\n"
     ]
    }
   ],
   "source": [
    "def Binary_matrix(A):\n",
    "    row,col=len(A),len(A[0])\n",
    "    dp=[[0 for i in range(col)]for i in range(row)]\n",
    "    for i in range(row):\n",
    "        dp[i][0]=A[i][0]\n",
    "    for j in range(col):\n",
    "        dp[0][j]=A[0][j]\n",
    "    for i in range(1,row):\n",
    "        for j in range(1,col):\n",
    "            if A[i][j]==0:\n",
    "                dp[i][j]=0\n",
    "            else:\n",
    "                dp[i][j]=1+min(dp[i-1][j-1],dp[i-1][j],dp[i][j-1])\n",
    "        max_ele=dp[0][0]\n",
    "        max_i,max_j=0,0\n",
    "        for i in range(row):\n",
    "            for j in range(col):\n",
    "                if max_ele<dp[i][j]:\n",
    "                    max_ele=dp[i][j]\n",
    "                    max_i,max_j=i,j\n",
    "        k=max_ele\n",
    "        return k\n",
    "M = [[0, 1, 1, 0, 1],\n",
    "     [1, 1, 0, 1, 0],\n",
    "     [0, 1, 1, 1, 0],\n",
    "     [1, 1, 1, 1, 0],\n",
    "     [1, 1, 1, 1, 1],\n",
    "     [0, 0, 0, 0, 0]]\n",
    "\n",
    "print(Binary_matrix(M))\n",
    "    "
   ]
  },
  {
   "cell_type": "code",
   "execution_count": 1,
   "id": "511e6ec6",
   "metadata": {},
   "outputs": [],
   "source": [
    "# partition problems \n",
    "\n",
    "def partition(arr,size):\n",
    "    sum=0\n",
    "    for i in range(size):\n",
    "        sum=sum+arr[i]\n",
    "    if sum%2==0:\n",
    "        return False\n",
    "    \n",
    "    \n",
    "    subset=[[False for i in range(sum//2+1)]for i in range(size+1)]\n",
    "    \n",
    "    for i in range(size+1):\n",
    "        subset[i][0]=True\n",
    "    \n",
    "    for j in range(sum//2+1):\n",
    "        subset[0][j]=False\n",
    "        \n",
    "    for i in range(1,size):\n",
    "        for j in range(1,sum//2+1):\n",
    "            if i<set[i-1]:\n",
    "                subset[i][j]=subset[i-1][j]\n",
    "                \n",
    "            if j>=set[i-1]:\n",
    "                subset[i][j]=(subset[i-1][j] or subset[i-1][j-arr[i-1]])\n",
    "    return subset[size][sum//2]"
   ]
  },
  {
   "cell_type": "code",
   "execution_count": 2,
   "id": "d33097cd",
   "metadata": {},
   "outputs": [
    {
     "name": "stdout",
     "output_type": "stream",
     "text": [
      "4\n"
     ]
    }
   ],
   "source": [
    "#longest palindrome subsequence\n",
    "def lcs(X,Y):\n",
    "    T=[[0 for i in range(10)] for j in range(10)]\n",
    "    for i in range(len(X)):\n",
    "        for j in range(len(Y)):\n",
    "            if X[i]==Y[j]:\n",
    "                T[i][j]=1+T[i-1][j-1]\n",
    "            else:\n",
    "                T[i][j]=max(T[i-1][j],T[i][j-1])\n",
    "    return T[i][j]\n",
    "\n",
    "X='babbb'\n",
    "Y='bbbab'\n",
    "print(lcs(X,Y))\n"
   ]
  },
  {
   "cell_type": "code",
   "execution_count": 4,
   "id": "9dceb402",
   "metadata": {},
   "outputs": [
    {
     "name": "stdout",
     "output_type": "stream",
     "text": [
      "5\n"
     ]
    }
   ],
   "source": [
    "def longestpalindromeSubseq(s):\n",
    "    size=len(s)\n",
    "    L=[[0 for x in range(size)]for x in range(size)]\n",
    "    \n",
    "    for i in range(size):\n",
    "        L[i][i]=1\n",
    "        \n",
    "    for length in range(2,size+1):\n",
    "        for i in range(size-length+1):\n",
    "            j=i+length-1\n",
    "            \n",
    "            if s[i]==s[j] and length==2:\n",
    "                L[i][j]=2\n",
    "            elif s[i]==s[j]:\n",
    "                L[i][j]=2+L[i+1][j-1]\n",
    "            else:\n",
    "                L[i][j]=max(L[i][j-1],L[i+1][j])\n",
    "    return L[0][size-1]\n",
    "str=\"kanaka\"\n",
    "print(longestpalindromeSubseq(str))"
   ]
  },
  {
   "cell_type": "code",
   "execution_count": 8,
   "id": "14dcb279",
   "metadata": {},
   "outputs": [
    {
     "name": "stdout",
     "output_type": "stream",
     "text": [
      "an\n"
     ]
    }
   ],
   "source": [
    "#Longesst NON over lapping Repeated substring\n",
    "time complexity-O(n**2)\n",
    "space complexity O(n**2)\n",
    "\n",
    "def LongestRepeatedSubstring(str):\n",
    "    n=len(str)\n",
    "    LRS=[[0 for x in range(n+1)]for y in range(n+1)]\n",
    "    \n",
    "    res=\"\"\n",
    "    res_length=0\n",
    "    index=0\n",
    "    for i in range(1,n+1):\n",
    "        for j in range(i+1,n+1):\n",
    "            if str[i-1]==str[j-1] and LRS[i-1][j-1]<(j-i): \n",
    "                LRS[i][j]=1+LRS[i-1][j-1]\n",
    "                \n",
    "                if LRS[i][j]>res_length:\n",
    "                    res_length=LRS[i][j]\n",
    "                    index=max(i,index)\n",
    "            else:\n",
    "                LRS[i][j]=0\n",
    "                \n",
    "    if res_length>0:\n",
    "        for i in range(index-res_length+1,index+1):\n",
    "            res=res+str[i-1]\n",
    "    return res\n",
    "\n",
    "if __name__ == \"__main__\":\n",
    "    str = \"banana\"\n",
    "    print(LongestRepeatedSubstring(str))"
   ]
  },
  {
   "cell_type": "code",
   "execution_count": null,
   "id": "b651bf7e",
   "metadata": {},
   "outputs": [],
   "source": []
  }
 ],
 "metadata": {
  "kernelspec": {
   "display_name": "Python 3 (ipykernel)",
   "language": "python",
   "name": "python3"
  },
  "language_info": {
   "codemirror_mode": {
    "name": "ipython",
    "version": 3
   },
   "file_extension": ".py",
   "mimetype": "text/x-python",
   "name": "python",
   "nbconvert_exporter": "python",
   "pygments_lexer": "ipython3",
   "version": "3.9.13"
  }
 },
 "nbformat": 4,
 "nbformat_minor": 5
}
